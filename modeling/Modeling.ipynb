{
 "cells": [
  {
   "cell_type": "code",
   "execution_count": 1,
   "metadata": {},
   "outputs": [],
   "source": [
    "import pandas as pd \n",
    "import numpy as np\n",
    "%matplotlib notebook\n",
    "import matplotlib.pyplot as plt"
   ]
  },
  {
   "cell_type": "code",
   "execution_count": 4,
   "metadata": {},
   "outputs": [],
   "source": [
    "# PIT\n",
    "pit_HT = pd.read_csv('./pit/pit_HT.csv')\n",
    "pit_HH = pd.read_csv('./pit/pit_HH.csv')\n",
    "pit_KT = pd.read_csv('./pit/pit_KT.csv')\n",
    "pit_LG = pd.read_csv('./pit/pit_LG.csv')\n",
    "pit_LT = pd.read_csv('./pit/pit_LT.csv')\n",
    "pit_NC = pd.read_csv('./pit/pit_NC.csv')\n",
    "pit_OB = pd.read_csv('./pit/pit_OB.csv')\n",
    "pit_SK = pd.read_csv('./pit/pit_SK.csv')\n",
    "pit_SS = pd.read_csv('./pit/pit_SS.csv')\n",
    "pit_WO = pd.read_csv('./pit/pit_WO.csv')"
   ]
  },
  {
   "cell_type": "code",
   "execution_count": 18,
   "metadata": {},
   "outputs": [
    {
     "data": {
      "text/html": [
       "<div>\n",
       "<style scoped>\n",
       "    .dataframe tbody tr th:only-of-type {\n",
       "        vertical-align: middle;\n",
       "    }\n",
       "\n",
       "    .dataframe tbody tr th {\n",
       "        vertical-align: top;\n",
       "    }\n",
       "\n",
       "    .dataframe thead th {\n",
       "        text-align: right;\n",
       "    }\n",
       "</style>\n",
       "<table border=\"1\" class=\"dataframe\">\n",
       "  <thead>\n",
       "    <tr style=\"text-align: right;\">\n",
       "      <th></th>\n",
       "      <th>Unnamed: 0</th>\n",
       "      <th>GDAY_DS</th>\n",
       "      <th>ER</th>\n",
       "      <th>WLS</th>\n",
       "    </tr>\n",
       "  </thead>\n",
       "  <tbody>\n",
       "    <tr>\n",
       "      <th>0</th>\n",
       "      <td>1</td>\n",
       "      <td>2020-05-05</td>\n",
       "      <td>11.000</td>\n",
       "      <td>0.000</td>\n",
       "    </tr>\n",
       "    <tr>\n",
       "      <th>1</th>\n",
       "      <td>2</td>\n",
       "      <td>2020-05-06</td>\n",
       "      <td>8.750</td>\n",
       "      <td>0.000</td>\n",
       "    </tr>\n",
       "    <tr>\n",
       "      <th>2</th>\n",
       "      <td>3</td>\n",
       "      <td>2020-05-07</td>\n",
       "      <td>7.833</td>\n",
       "      <td>0.111</td>\n",
       "    </tr>\n",
       "    <tr>\n",
       "      <th>3</th>\n",
       "      <td>4</td>\n",
       "      <td>2020-05-08</td>\n",
       "      <td>7.250</td>\n",
       "      <td>0.146</td>\n",
       "    </tr>\n",
       "    <tr>\n",
       "      <th>4</th>\n",
       "      <td>5</td>\n",
       "      <td>2020-05-09</td>\n",
       "      <td>7.200</td>\n",
       "      <td>0.157</td>\n",
       "    </tr>\n",
       "  </tbody>\n",
       "</table>\n",
       "</div>"
      ],
      "text/plain": [
       "   Unnamed: 0     GDAY_DS      ER    WLS\n",
       "0           1  2020-05-05  11.000  0.000\n",
       "1           2  2020-05-06   8.750  0.000\n",
       "2           3  2020-05-07   7.833  0.111\n",
       "3           4  2020-05-08   7.250  0.146\n",
       "4           5  2020-05-09   7.200  0.157"
      ]
     },
     "execution_count": 18,
     "metadata": {},
     "output_type": "execute_result"
    }
   ],
   "source": [
    "pit_HT.head()"
   ]
  },
  {
   "cell_type": "code",
   "execution_count": 23,
   "metadata": {},
   "outputs": [
    {
     "data": {
      "text/html": [
       "<div>\n",
       "<style scoped>\n",
       "    .dataframe tbody tr th:only-of-type {\n",
       "        vertical-align: middle;\n",
       "    }\n",
       "\n",
       "    .dataframe tbody tr th {\n",
       "        vertical-align: top;\n",
       "    }\n",
       "\n",
       "    .dataframe thead th {\n",
       "        text-align: right;\n",
       "    }\n",
       "</style>\n",
       "<table border=\"1\" class=\"dataframe\">\n",
       "  <thead>\n",
       "    <tr style=\"text-align: right;\">\n",
       "      <th></th>\n",
       "      <th>GDAY_DS</th>\n",
       "      <th>ER</th>\n",
       "    </tr>\n",
       "  </thead>\n",
       "  <tbody>\n",
       "    <tr>\n",
       "      <th>0</th>\n",
       "      <td>2020-05-05</td>\n",
       "      <td>0.000</td>\n",
       "    </tr>\n",
       "    <tr>\n",
       "      <th>1</th>\n",
       "      <td>2020-05-06</td>\n",
       "      <td>1.000</td>\n",
       "    </tr>\n",
       "    <tr>\n",
       "      <th>2</th>\n",
       "      <td>2020-05-07</td>\n",
       "      <td>3.333</td>\n",
       "    </tr>\n",
       "    <tr>\n",
       "      <th>3</th>\n",
       "      <td>2020-05-08</td>\n",
       "      <td>3.250</td>\n",
       "    </tr>\n",
       "    <tr>\n",
       "      <th>4</th>\n",
       "      <td>2020-05-09</td>\n",
       "      <td>3.200</td>\n",
       "    </tr>\n",
       "  </tbody>\n",
       "</table>\n",
       "</div>"
      ],
      "text/plain": [
       "      GDAY_DS     ER\n",
       "0  2020-05-05  0.000\n",
       "1  2020-05-06  1.000\n",
       "2  2020-05-07  3.333\n",
       "3  2020-05-08  3.250\n",
       "4  2020-05-09  3.200"
      ]
     },
     "execution_count": 23,
     "metadata": {},
     "output_type": "execute_result"
    }
   ],
   "source": [
    "# ER\n",
    "er_HT = pit_HT.iloc[:,[1,2]]\n",
    "er_HH = pit_HH.iloc[:,[1,2]]\n",
    "er_KT = pit_KT.iloc[:,[1,2]]\n",
    "er_LG = pit_LG.iloc[:,[1,2]]\n",
    "er_LT = pit_LT.iloc[:,[1,2]]\n",
    "er_NC = pit_NC.iloc[:,[1,2]]\n",
    "er_OB = pit_OB.iloc[:,[1,2]]\n",
    "er_SK = pit_SK.iloc[:,[1,2]]\n",
    "er_SS = pit_SS.iloc[:,[1,2]]\n",
    "er_WO = pit_WO.iloc[:,[1,2]]\n",
    "er_WO.head()"
   ]
  },
  {
   "cell_type": "code",
   "execution_count": 20,
   "metadata": {},
   "outputs": [],
   "source": [
    "# WLS\n",
    "wls_HT = pit_HT.iloc[:,[1,3]]\n",
    "wls_HH = pit_HH.iloc[:,[1,3]]\n",
    "wls_KT = pit_KT.iloc[:,[1,3]]\n",
    "wls_LG = pit_LG.iloc[:,[1,3]]\n",
    "wls_LT = pit_LT.iloc[:,[1,3]]\n",
    "wls_NC = pit_NC.iloc[:,[1,3]]\n",
    "wls_OB = pit_OB.iloc[:,[1,3]]\n",
    "wls_SK = pit_SK.iloc[:,[1,3]]\n",
    "wls_SS = pit_SS.iloc[:,[1,3]]\n",
    "wls_WO = pit_WO.iloc[:,[1,3]]"
   ]
  },
  {
   "cell_type": "code",
   "execution_count": 15,
   "metadata": {},
   "outputs": [
    {
     "name": "stdout",
     "output_type": "stream",
     "text": [
      "       GDAY_DS    WLS\n",
      "0   2020-05-05  1.000\n",
      "1   2020-05-06  1.000\n",
      "2   2020-05-07  0.667\n",
      "3   2020-05-08  0.750\n",
      "4   2020-05-09  0.800\n",
      "..         ...    ...\n",
      "61  2020-07-15  0.622\n",
      "62  2020-07-16  0.609\n",
      "63  2020-07-17  0.617\n",
      "64  2020-07-18  0.625\n",
      "65  2020-07-19  0.633\n",
      "\n",
      "[66 rows x 2 columns]\n"
     ]
    }
   ],
   "source": [
    "print(pit_WO.loc[:65,['GDAY_DS','WLS']])"
   ]
  },
  {
   "cell_type": "code",
   "execution_count": 21,
   "metadata": {},
   "outputs": [
    {
     "data": {
      "text/html": [
       "<div>\n",
       "<style scoped>\n",
       "    .dataframe tbody tr th:only-of-type {\n",
       "        vertical-align: middle;\n",
       "    }\n",
       "\n",
       "    .dataframe tbody tr th {\n",
       "        vertical-align: top;\n",
       "    }\n",
       "\n",
       "    .dataframe thead th {\n",
       "        text-align: right;\n",
       "    }\n",
       "</style>\n",
       "<table border=\"1\" class=\"dataframe\">\n",
       "  <thead>\n",
       "    <tr style=\"text-align: right;\">\n",
       "      <th></th>\n",
       "      <th>Unnamed: 0</th>\n",
       "      <th>GDAY_DS</th>\n",
       "      <th>BA</th>\n",
       "    </tr>\n",
       "  </thead>\n",
       "  <tbody>\n",
       "    <tr>\n",
       "      <th>0</th>\n",
       "      <td>1</td>\n",
       "      <td>2020-05-05</td>\n",
       "      <td>0.219</td>\n",
       "    </tr>\n",
       "    <tr>\n",
       "      <th>1</th>\n",
       "      <td>2</td>\n",
       "      <td>2020-05-06</td>\n",
       "      <td>0.281</td>\n",
       "    </tr>\n",
       "    <tr>\n",
       "      <th>2</th>\n",
       "      <td>3</td>\n",
       "      <td>2020-05-07</td>\n",
       "      <td>0.363</td>\n",
       "    </tr>\n",
       "    <tr>\n",
       "      <th>3</th>\n",
       "      <td>4</td>\n",
       "      <td>2020-05-08</td>\n",
       "      <td>0.328</td>\n",
       "    </tr>\n",
       "    <tr>\n",
       "      <th>4</th>\n",
       "      <td>5</td>\n",
       "      <td>2020-05-09</td>\n",
       "      <td>0.342</td>\n",
       "    </tr>\n",
       "  </tbody>\n",
       "</table>\n",
       "</div>"
      ],
      "text/plain": [
       "   Unnamed: 0     GDAY_DS     BA\n",
       "0           1  2020-05-05  0.219\n",
       "1           2  2020-05-06  0.281\n",
       "2           3  2020-05-07  0.363\n",
       "3           4  2020-05-08  0.328\n",
       "4           5  2020-05-09  0.342"
      ]
     },
     "execution_count": 21,
     "metadata": {},
     "output_type": "execute_result"
    }
   ],
   "source": [
    "# HIT\n",
    "hit_HT = pd.read_csv('./hit/hit_HT.csv')\n",
    "hit_HH = pd.read_csv('./hit/hit_HH.csv')\n",
    "hit_KT = pd.read_csv('./hit/hit_KT.csv')\n",
    "hit_LG = pd.read_csv('./hit/hit_LG.csv')\n",
    "hit_LT = pd.read_csv('./hit/hit_LT.csv')\n",
    "hit_NC = pd.read_csv('./hit/hit_NC.csv')\n",
    "hit_OB = pd.read_csv('./hit/hit_OB.csv')\n",
    "hit_SK = pd.read_csv('./hit/hit_SK.csv')\n",
    "hit_SS = pd.read_csv('./hit/hit_SS.csv')\n",
    "hit_WO = pd.read_csv('./hit/hit_WO.csv')\n",
    "hit_WO.head()"
   ]
  },
  {
   "cell_type": "code",
   "execution_count": 22,
   "metadata": {},
   "outputs": [
    {
     "data": {
      "text/html": [
       "<div>\n",
       "<style scoped>\n",
       "    .dataframe tbody tr th:only-of-type {\n",
       "        vertical-align: middle;\n",
       "    }\n",
       "\n",
       "    .dataframe tbody tr th {\n",
       "        vertical-align: top;\n",
       "    }\n",
       "\n",
       "    .dataframe thead th {\n",
       "        text-align: right;\n",
       "    }\n",
       "</style>\n",
       "<table border=\"1\" class=\"dataframe\">\n",
       "  <thead>\n",
       "    <tr style=\"text-align: right;\">\n",
       "      <th></th>\n",
       "      <th>GDAY_DS</th>\n",
       "      <th>BA</th>\n",
       "    </tr>\n",
       "  </thead>\n",
       "  <tbody>\n",
       "    <tr>\n",
       "      <th>0</th>\n",
       "      <td>2020-05-05</td>\n",
       "      <td>0.219</td>\n",
       "    </tr>\n",
       "    <tr>\n",
       "      <th>1</th>\n",
       "      <td>2020-05-06</td>\n",
       "      <td>0.281</td>\n",
       "    </tr>\n",
       "    <tr>\n",
       "      <th>2</th>\n",
       "      <td>2020-05-07</td>\n",
       "      <td>0.363</td>\n",
       "    </tr>\n",
       "    <tr>\n",
       "      <th>3</th>\n",
       "      <td>2020-05-08</td>\n",
       "      <td>0.328</td>\n",
       "    </tr>\n",
       "    <tr>\n",
       "      <th>4</th>\n",
       "      <td>2020-05-09</td>\n",
       "      <td>0.342</td>\n",
       "    </tr>\n",
       "  </tbody>\n",
       "</table>\n",
       "</div>"
      ],
      "text/plain": [
       "      GDAY_DS     BA\n",
       "0  2020-05-05  0.219\n",
       "1  2020-05-06  0.281\n",
       "2  2020-05-07  0.363\n",
       "3  2020-05-08  0.328\n",
       "4  2020-05-09  0.342"
      ]
     },
     "execution_count": 22,
     "metadata": {},
     "output_type": "execute_result"
    }
   ],
   "source": [
    "# BA\n",
    "ba_HT = hit_HT.iloc[:,[1,2]]\n",
    "ba_HH = hit_HH.iloc[:,[1,2]]\n",
    "ba_KT = hit_KT.iloc[:,[1,2]]\n",
    "ba_LG = hit_LG.iloc[:,[1,2]]\n",
    "ba_LT = hit_LT.iloc[:,[1,2]]\n",
    "ba_NC = hit_NC.iloc[:,[1,2]]\n",
    "ba_OB = hit_OB.iloc[:,[1,2]]\n",
    "ba_SK = hit_SK.iloc[:,[1,2]]\n",
    "ba_SS = hit_SS.iloc[:,[1,2]]\n",
    "ba_WO = hit_WO.iloc[:,[1,2]]\n",
    "ba_WO.head()"
   ]
  },
  {
   "cell_type": "markdown",
   "metadata": {},
   "source": [
    "## ER ARIMA\n",
    "\n",
    "--ER-- <br>\n",
    "한화 1,2,1 <br>\n",
    "기아 1,2,1 <br>\n",
    "kt 0,1,0 <br>\n",
    "lg 1,1,0 <br>\n",
    "롯데 1,0,0 <br> \n",
    "nc 0,2,1 <br>\n",
    "두산 2,1,1 <br>\n",
    "sk 1,0,1  <br>\n",
    "삼성 1,0,0 <br>\n",
    "키움 0,1,1 "
   ]
  },
  {
   "cell_type": "code",
   "execution_count": 24,
   "metadata": {},
   "outputs": [
    {
     "name": "stdout",
     "output_type": "stream",
     "text": [
      "                             ARIMA Model Results                              \n",
      "==============================================================================\n",
      "Dep. Variable:                  D2.ER   No. Observations:                   63\n",
      "Model:                 ARIMA(1, 2, 1)   Log Likelihood                  67.160\n",
      "Method:                       css-mle   S.D. of innovations              0.082\n",
      "Date:                Wed, 23 Sep 2020   AIC                           -126.321\n",
      "Time:                        00:21:07   BIC                           -117.748\n",
      "Sample:                             2   HQIC                          -122.949\n",
      "                                                                              \n",
      "===============================================================================\n",
      "                  coef    std err          z      P>|z|      [0.025      0.975]\n",
      "-------------------------------------------------------------------------------\n",
      "const          -0.0920      0.114     -0.811      0.418      -0.315       0.130\n",
      "ar.L1.D2.ER     0.9496      0.063     15.066      0.000       0.826       1.073\n",
      "ma.L1.D2.ER    -0.4037      0.175     -2.304      0.021      -0.747      -0.060\n",
      "                                    Roots                                    \n",
      "=============================================================================\n",
      "                  Real          Imaginary           Modulus         Frequency\n",
      "-----------------------------------------------------------------------------\n",
      "AR.1            1.0531           +0.0000j            1.0531            0.0000\n",
      "MA.1            2.4772           +0.0000j            2.4772            0.0000\n",
      "-----------------------------------------------------------------------------\n",
      "\n",
      "(array([4.59984071]), array([0.08232096]), array([[4.4384946 , 4.76118682]]))\n"
     ]
    }
   ],
   "source": [
    "#한화 자책 1,2,1\n",
    "import statsmodels.api as sm\n",
    "from statsmodels.tsa.arima_model import ARIMA\n",
    "\n",
    "erHH_model = ARIMA(er_HH.loc[:64,['ER']], order=(1,2,1))\n",
    "erHH_model_fit = erHH_model.fit(trend='c', full_output=True, disp=True)\n",
    "print(\"{}\\n\".format(erHH_model_fit.summary()))\n",
    "\n",
    "erHH_fore = erHH_model_fit.forecast(steps=1)\n",
    "print(erHH_fore)"
   ]
  },
  {
   "cell_type": "code",
   "execution_count": 25,
   "metadata": {},
   "outputs": [
    {
     "name": "stdout",
     "output_type": "stream",
     "text": [
      "                             ARIMA Model Results                              \n",
      "==============================================================================\n",
      "Dep. Variable:                  D2.ER   No. Observations:                   60\n",
      "Model:                 ARIMA(1, 2, 1)   Log Likelihood                  12.451\n",
      "Method:                       css-mle   S.D. of innovations              0.197\n",
      "Date:                Wed, 23 Sep 2020   AIC                            -16.902\n",
      "Time:                        00:21:11   BIC                             -8.524\n",
      "Sample:                             2   HQIC                           -13.625\n",
      "                                                                              \n",
      "===============================================================================\n",
      "                  coef    std err          z      P>|z|      [0.025      0.975]\n",
      "-------------------------------------------------------------------------------\n",
      "const           0.0381      0.025      1.507      0.132      -0.011       0.088\n",
      "ar.L1.D2.ER     0.9997      0.025     39.980      0.000       0.951       1.049\n",
      "ma.L1.D2.ER    -1.0000      0.003   -339.964      0.000      -1.006      -0.994\n",
      "                                    Roots                                    \n",
      "=============================================================================\n",
      "                  Real          Imaginary           Modulus         Frequency\n",
      "-----------------------------------------------------------------------------\n",
      "AR.1            1.0003           +0.0000j            1.0003            0.0000\n",
      "MA.1            1.0000           +0.0000j            1.0000            0.0000\n",
      "-----------------------------------------------------------------------------\n",
      "\n",
      "(array([4.30612047]), array([0.19661356]), array([[3.92076498, 4.69147597]]))\n"
     ]
    },
    {
     "name": "stderr",
     "output_type": "stream",
     "text": [
      "C:\\Users\\user\\Anaconda3\\lib\\site-packages\\statsmodels\\base\\model.py:548: HessianInversionWarning: Inverting hessian failed, no bse or cov_params available\n",
      "  'available', HessianInversionWarning)\n"
     ]
    }
   ],
   "source": [
    "# 기아 자책 1,2,1\n",
    "erHT_model = ARIMA(er_HT.loc[:61, ['ER']], order=(1, 2, 1))\n",
    "erHT_model_fit = erHT_model.fit(trend='c', full_output=True, disp=True)\n",
    "print(\"{}\\n\".format(erHT_model_fit.summary()))\n",
    "\n",
    "erHT_fore = erHT_model_fit.forecast(steps=1)\n",
    "print(erHT_fore)"
   ]
  },
  {
   "cell_type": "code",
   "execution_count": 26,
   "metadata": {},
   "outputs": [
    {
     "name": "stdout",
     "output_type": "stream",
     "text": [
      "                             ARIMA Model Results                              \n",
      "==============================================================================\n",
      "Dep. Variable:                   D.ER   No. Observations:                   63\n",
      "Model:                 ARIMA(0, 1, 0)   Log Likelihood                 -28.051\n",
      "Method:                           css   S.D. of innovations              0.378\n",
      "Date:                Wed, 23 Sep 2020   AIC                             60.103\n",
      "Time:                        00:21:13   BIC                             64.389\n",
      "Sample:                             1   HQIC                            61.788\n",
      "                                                                              \n",
      "==============================================================================\n",
      "                 coef    std err          z      P>|z|      [0.025      0.975]\n",
      "------------------------------------------------------------------------------\n",
      "const         -0.0362      0.048     -0.760      0.447      -0.129       0.057\n",
      "==============================================================================\n",
      "\n",
      "(array([4.68584127]), array([0.37769036]), array([[3.94558177, 5.42610077]]))\n"
     ]
    }
   ],
   "source": [
    "# KT 자책 0,1,0\n",
    "erKT_model = ARIMA(er_KT.loc[:63, ['ER']], order=(0,1,0))\n",
    "erKT_model_fit = erKT_model.fit(trend='c', full_output=True, disp=True)\n",
    "print(\"{}\\n\".format(erKT_model_fit.summary()))\n",
    "\n",
    "erKT_fore = erKT_model_fit.forecast(steps=1)\n",
    "print(erKT_fore)"
   ]
  },
  {
   "cell_type": "code",
   "execution_count": 27,
   "metadata": {},
   "outputs": [
    {
     "name": "stdout",
     "output_type": "stream",
     "text": [
      "                             ARIMA Model Results                              \n",
      "==============================================================================\n",
      "Dep. Variable:                   D.ER   No. Observations:                   63\n",
      "Model:                 ARIMA(1, 1, 0)   Log Likelihood                 -33.502\n",
      "Method:                       css-mle   S.D. of innovations              0.411\n",
      "Date:                Wed, 23 Sep 2020   AIC                             73.004\n",
      "Time:                        00:21:18   BIC                             79.433\n",
      "Sample:                             1   HQIC                            75.532\n",
      "                                                                              \n",
      "==============================================================================\n",
      "                 coef    std err          z      P>|z|      [0.025      0.975]\n",
      "------------------------------------------------------------------------------\n",
      "const          0.0585      0.085      0.690      0.490      -0.108       0.225\n",
      "ar.L1.D.ER     0.3926      0.128      3.077      0.002       0.143       0.643\n",
      "                                    Roots                                    \n",
      "=============================================================================\n",
      "                  Real          Imaginary           Modulus         Frequency\n",
      "-----------------------------------------------------------------------------\n",
      "AR.1            2.5468           +0.0000j            2.5468            0.0000\n",
      "-----------------------------------------------------------------------------\n",
      "\n",
      "(array([4.80113605]), array([0.4112749]), array([[3.99505207, 5.60722003]]))\n"
     ]
    }
   ],
   "source": [
    "# LG 자책 1,1,0\n",
    "erLG_model = ARIMA(er_LG.loc[:63, ['ER']], order=(1,1,0))\n",
    "erLG_model_fit = erLG_model.fit(trend='c', full_output=True, disp=True)\n",
    "print(\"{}\\n\".format(erLG_model_fit.summary()))\n",
    "\n",
    "erLG_fore = erLG_model_fit.forecast(steps=1)\n",
    "print(erLG_fore)"
   ]
  },
  {
   "cell_type": "code",
   "execution_count": 28,
   "metadata": {},
   "outputs": [
    {
     "name": "stdout",
     "output_type": "stream",
     "text": [
      "                              ARMA Model Results                              \n",
      "==============================================================================\n",
      "Dep. Variable:                     ER   No. Observations:                   62\n",
      "Model:                     ARMA(1, 0)   Log Likelihood                 -29.575\n",
      "Method:                       css-mle   S.D. of innovations              0.384\n",
      "Date:                Wed, 23 Sep 2020   AIC                             65.150\n",
      "Time:                        00:21:21   BIC                             71.531\n",
      "Sample:                             0   HQIC                            67.655\n",
      "                                                                              \n",
      "==============================================================================\n",
      "                 coef    std err          z      P>|z|      [0.025      0.975]\n",
      "------------------------------------------------------------------------------\n",
      "const          4.2757      0.520      8.216      0.000       3.256       5.296\n",
      "ar.L1.ER       0.9155      0.064     14.382      0.000       0.791       1.040\n",
      "                                    Roots                                    \n",
      "=============================================================================\n",
      "                  Real          Imaginary           Modulus         Frequency\n",
      "-----------------------------------------------------------------------------\n",
      "AR.1            1.0923           +0.0000j            1.0923            0.0000\n",
      "-----------------------------------------------------------------------------\n",
      "\n",
      "(array([5.04043883]), array([0.38419246]), array([[4.28743545, 5.79344221]]))\n"
     ]
    }
   ],
   "source": [
    "# 꼴떼 1,0,0\n",
    "erLT_model = ARIMA(er_LT.loc[:61, ['ER']], order=(1, 0, 0))\n",
    "erLT_model_fit = erLT_model.fit(trend='c', full_output=True, disp=True)\n",
    "print(\"{}\\n\".format(erLT_model_fit.summary()))\n",
    "\n",
    "erLT_fore = erLT_model_fit.forecast(steps=1)\n",
    "print(erLT_fore)"
   ]
  },
  {
   "cell_type": "code",
   "execution_count": 29,
   "metadata": {},
   "outputs": [
    {
     "name": "stdout",
     "output_type": "stream",
     "text": [
      "                             ARIMA Model Results                              \n",
      "==============================================================================\n",
      "Dep. Variable:                  D2.ER   No. Observations:                   61\n",
      "Model:                 ARIMA(0, 2, 1)   Log Likelihood                 -27.988\n",
      "Method:                       css-mle   S.D. of innovations              0.381\n",
      "Date:                Wed, 23 Sep 2020   AIC                             61.976\n",
      "Time:                        00:21:23   BIC                             68.308\n",
      "Sample:                             2   HQIC                            64.457\n",
      "                                                                              \n",
      "===============================================================================\n",
      "                  coef    std err          z      P>|z|      [0.025      0.975]\n",
      "-------------------------------------------------------------------------------\n",
      "const          -0.0179      0.015     -1.194      0.232      -0.047       0.011\n",
      "ma.L1.D2.ER    -0.7198      0.137     -5.263      0.000      -0.988      -0.452\n",
      "                                    Roots                                    \n",
      "=============================================================================\n",
      "                  Real          Imaginary           Modulus         Frequency\n",
      "-----------------------------------------------------------------------------\n",
      "MA.1            1.3893           +0.0000j            1.3893            0.0000\n",
      "-----------------------------------------------------------------------------\n",
      "\n",
      "(array([3.54558092]), array([0.38056217]), array([[2.79969277, 4.29146908]]))\n"
     ]
    }
   ],
   "source": [
    "# NC 자책 0,2,1\n",
    "erNC_model = ARIMA(er_NC.loc[:62, ['ER']], order=(0, 2, 1))\n",
    "erNC_model_fit = erNC_model.fit(trend='c', full_output=True, disp=True)\n",
    "print(\"{}\\n\".format(erNC_model_fit.summary()))\n",
    "\n",
    "erNC_fore = erNC_model_fit.forecast(steps=1)\n",
    "print(erNC_fore)"
   ]
  },
  {
   "cell_type": "code",
   "execution_count": 30,
   "metadata": {},
   "outputs": [
    {
     "name": "stdout",
     "output_type": "stream",
     "text": [
      "                             ARIMA Model Results                              \n",
      "==============================================================================\n",
      "Dep. Variable:                   D.ER   No. Observations:                   63\n",
      "Model:                 ARIMA(2, 1, 1)   Log Likelihood                 -42.155\n",
      "Method:                       css-mle   S.D. of innovations              0.463\n",
      "Date:                Wed, 23 Sep 2020   AIC                             94.310\n",
      "Time:                        00:21:25   BIC                            105.025\n",
      "Sample:                             1   HQIC                            98.524\n",
      "                                                                              \n",
      "==============================================================================\n",
      "                 coef    std err          z      P>|z|      [0.025      0.975]\n",
      "------------------------------------------------------------------------------\n",
      "const         -0.0259      0.022     -1.169      0.243      -0.069       0.018\n",
      "ar.L1.D.ER     0.7066      0.165      4.282      0.000       0.383       1.030\n",
      "ar.L2.D.ER    -0.8083      0.120     -6.756      0.000      -1.043      -0.574\n",
      "ma.L1.D.ER    -0.6010      0.128     -4.692      0.000      -0.852      -0.350\n",
      "                                    Roots                                    \n",
      "=============================================================================\n",
      "                  Real          Imaginary           Modulus         Frequency\n",
      "-----------------------------------------------------------------------------\n",
      "AR.1            0.4371           -1.0228j            1.1123           -0.1857\n",
      "AR.2            0.4371           +1.0228j            1.1123            0.1857\n",
      "MA.1            1.6639           +0.0000j            1.6639            0.0000\n",
      "-----------------------------------------------------------------------------\n",
      "\n",
      "(array([4.97092395]), array([0.46336397]), array([[4.06274725, 5.87910064]]))\n"
     ]
    }
   ],
   "source": [
    "# 두산 2,1,1\n",
    "erOB_model = ARIMA(er_OB.loc[:63, ['ER']], order=(2, 1, 1))\n",
    "erOB_model_fit = erOB_model.fit(trend='c', full_output=True, disp=True)\n",
    "print(\"{}\\n\".format(erOB_model_fit.summary()))\n",
    "\n",
    "erOB_fore = erOB_model_fit.forecast(steps=1)\n",
    "print(erOB_fore)"
   ]
  },
  {
   "cell_type": "code",
   "execution_count": 31,
   "metadata": {},
   "outputs": [
    {
     "name": "stdout",
     "output_type": "stream",
     "text": [
      "                              ARMA Model Results                              \n",
      "==============================================================================\n",
      "Dep. Variable:                     ER   No. Observations:                   65\n",
      "Model:                     ARMA(1, 1)   Log Likelihood                 -25.423\n",
      "Method:                       css-mle   S.D. of innovations              0.354\n",
      "Date:                Wed, 23 Sep 2020   AIC                             58.846\n",
      "Time:                        00:21:27   BIC                             67.543\n",
      "Sample:                             0   HQIC                            62.277\n",
      "                                                                              \n",
      "==============================================================================\n",
      "                 coef    std err          z      P>|z|      [0.025      0.975]\n",
      "------------------------------------------------------------------------------\n",
      "const          4.6382      0.229     20.288      0.000       4.190       5.086\n",
      "ar.L1.ER       0.7509      0.121      6.202      0.000       0.514       0.988\n",
      "ma.L1.ER       0.3453      0.214      1.615      0.106      -0.074       0.764\n",
      "                                    Roots                                    \n",
      "=============================================================================\n",
      "                  Real          Imaginary           Modulus         Frequency\n",
      "-----------------------------------------------------------------------------\n",
      "AR.1            1.3318           +0.0000j            1.3318            0.0000\n",
      "MA.1           -2.8961           +0.0000j            2.8961            0.5000\n",
      "-----------------------------------------------------------------------------\n",
      "\n",
      "(array([4.93491099]), array([0.3539057]), array([[4.24126858, 5.62855341]]))\n"
     ]
    }
   ],
   "source": [
    "# SK 1,0,1\n",
    "erSK_model = ARIMA(er_SK.loc[:64, ['ER']], order=(1, 0, 1))\n",
    "erSK_model_fit = erSK_model.fit(trend='c', full_output=True, disp=True)\n",
    "print(\"{}\\n\".format(erSK_model_fit.summary()))\n",
    "\n",
    "erSK_fore = erSK_model_fit.forecast(steps=1)\n",
    "print(erSK_fore)"
   ]
  },
  {
   "cell_type": "code",
   "execution_count": 32,
   "metadata": {},
   "outputs": [
    {
     "name": "stdout",
     "output_type": "stream",
     "text": [
      "                              ARMA Model Results                              \n",
      "==============================================================================\n",
      "Dep. Variable:                     ER   No. Observations:                   65\n",
      "Model:                     ARMA(1, 0)   Log Likelihood                 -17.993\n",
      "Method:                       css-mle   S.D. of innovations              0.317\n",
      "Date:                Wed, 23 Sep 2020   AIC                             41.987\n",
      "Time:                        00:21:31   BIC                             48.510\n",
      "Sample:                             0   HQIC                            44.561\n",
      "                                                                              \n",
      "==============================================================================\n",
      "                 coef    std err          z      P>|z|      [0.025      0.975]\n",
      "------------------------------------------------------------------------------\n",
      "const          4.2575      0.181     23.572      0.000       3.904       4.612\n",
      "ar.L1.ER       0.7944      0.072     11.009      0.000       0.653       0.936\n",
      "                                    Roots                                    \n",
      "=============================================================================\n",
      "                  Real          Imaginary           Modulus         Frequency\n",
      "-----------------------------------------------------------------------------\n",
      "AR.1            1.2589           +0.0000j            1.2589            0.0000\n",
      "-----------------------------------------------------------------------------\n",
      "\n",
      "(array([4.53831286]), array([0.31670436]), array([[3.91758372, 5.159042  ]]))\n"
     ]
    }
   ],
   "source": [
    "# 삼성 1,0,0\n",
    "erSS_model = ARIMA(er_SS.loc[:64, ['ER']], order=(1, 0, 0))\n",
    "erSS_model_fit = erSS_model.fit(trend='c', full_output=True, disp=True)\n",
    "print(\"{}\\n\".format(erSS_model_fit.summary()))\n",
    "\n",
    "erSS_fore = erSS_model_fit.forecast(steps=1)\n",
    "print(erSS_fore)"
   ]
  },
  {
   "cell_type": "code",
   "execution_count": 33,
   "metadata": {},
   "outputs": [
    {
     "name": "stdout",
     "output_type": "stream",
     "text": [
      "                             ARIMA Model Results                              \n",
      "==============================================================================\n",
      "Dep. Variable:                   D.ER   No. Observations:                   65\n",
      "Model:                 ARIMA(0, 1, 1)   Log Likelihood                 -27.893\n",
      "Method:                       css-mle   S.D. of innovations              0.371\n",
      "Date:                Wed, 23 Sep 2020   AIC                             61.786\n",
      "Time:                        00:21:33   BIC                             68.309\n",
      "Sample:                             1   HQIC                            64.360\n",
      "                                                                              \n",
      "==============================================================================\n",
      "                 coef    std err          z      P>|z|      [0.025      0.975]\n",
      "------------------------------------------------------------------------------\n",
      "const          0.1014      0.062      1.646      0.100      -0.019       0.222\n",
      "ma.L1.D.ER     0.3422      0.131      2.615      0.009       0.086       0.599\n",
      "                                    Roots                                    \n",
      "=============================================================================\n",
      "                  Real          Imaginary           Modulus         Frequency\n",
      "-----------------------------------------------------------------------------\n",
      "MA.1           -2.9224           +0.0000j            2.9224            0.5000\n",
      "-----------------------------------------------------------------------------\n",
      "\n",
      "(array([6.64952957]), array([0.37128933]), array([[5.92181586, 7.37724327]]))\n"
     ]
    }
   ],
   "source": [
    "# 키움 0,1,1\n",
    "erWO_model = ARIMA(er_WO.loc[:65, ['ER']], order=(0, 1, 1))\n",
    "erWO_model_fit = erWO_model.fit(trend='c', full_output=True, disp=True)\n",
    "print(\"{}\\n\".format(erWO_model_fit.summary()))\n",
    "\n",
    "erWO_fore = erWO_model_fit.forecast(steps=1)\n",
    "print(erWO_fore)"
   ]
  },
  {
   "cell_type": "markdown",
   "metadata": {},
   "source": [
    "## WLS\n",
    "\n",
    "--WLS-- <br>\n",
    "한화 0,1,0 <br>\n",
    "기아 0,1,1 <br>\n",
    "KT 0,1,0 <br>\n",
    "엘지 2,0,0 <br>\n",
    "롯데 0,1,0 <br>\n",
    "NC 0,1,0 <br>\n",
    "두산 0,0,1 <br>\n",
    "SK 0,1,1 <br>\n",
    "삼성 2,1,0 <br>\n",
    "키움 0,1,1 <br>\n"
   ]
  },
  {
   "cell_type": "code",
   "execution_count": 34,
   "metadata": {},
   "outputs": [
    {
     "name": "stdout",
     "output_type": "stream",
     "text": [
      "                             ARIMA Model Results                              \n",
      "==============================================================================\n",
      "Dep. Variable:                  D.WLS   No. Observations:                   64\n",
      "Model:                 ARIMA(0, 1, 0)   Log Likelihood                  97.029\n",
      "Method:                           css   S.D. of innovations              0.053\n",
      "Date:                Wed, 23 Sep 2020   AIC                           -190.058\n",
      "Time:                        00:21:35   BIC                           -185.741\n",
      "Sample:                             1   HQIC                          -188.357\n",
      "                                                                              \n",
      "==============================================================================\n",
      "                 coef    std err          z      P>|z|      [0.025      0.975]\n",
      "------------------------------------------------------------------------------\n",
      "const         -0.0096      0.007     -1.452      0.147      -0.023       0.003\n",
      "==============================================================================\n",
      "\n",
      "(array([0.37335938]), array([0.05312967]), array([[0.26922714, 0.47749161]]))\n"
     ]
    }
   ],
   "source": [
    "# 한화 승률 0,1,0\n",
    "wlsHH_model = ARIMA(wls_HH.loc[:64, ['WLS']], order=(0, 1, 0))\n",
    "wlsHH_model_fit = wlsHH_model.fit(trend='c', full_output=True, disp=True)\n",
    "print(\"{}\\n\".format(wlsHH_model_fit.summary()))\n",
    "\n",
    "wlsHH_fore = wlsHH_model_fit.forecast(steps=1)\n",
    "print(wlsHH_fore)"
   ]
  },
  {
   "cell_type": "code",
   "execution_count": 35,
   "metadata": {},
   "outputs": [
    {
     "name": "stdout",
     "output_type": "stream",
     "text": [
      "                             ARIMA Model Results                              \n",
      "==============================================================================\n",
      "Dep. Variable:                  D.WLS   No. Observations:                   61\n",
      "Model:                 ARIMA(0, 1, 1)   Log Likelihood                  91.262\n",
      "Method:                       css-mle   S.D. of innovations              0.054\n",
      "Date:                Wed, 23 Sep 2020   AIC                           -176.524\n",
      "Time:                        00:21:46   BIC                           -170.191\n",
      "Sample:                             1   HQIC                          -174.042\n",
      "                                                                              \n",
      "===============================================================================\n",
      "                  coef    std err          z      P>|z|      [0.025      0.975]\n",
      "-------------------------------------------------------------------------------\n",
      "const           0.0070      0.006      1.235      0.217      -0.004       0.018\n",
      "ma.L1.D.WLS    -0.1872      0.129     -1.446      0.148      -0.441       0.067\n",
      "                                    Roots                                    \n",
      "=============================================================================\n",
      "                  Real          Imaginary           Modulus         Frequency\n",
      "-----------------------------------------------------------------------------\n",
      "MA.1            5.3433           +0.0000j            5.3433            0.0000\n",
      "-----------------------------------------------------------------------------\n",
      "\n",
      "(array([0.43591556]), array([0.05418625]), array([[0.32971246, 0.54211866]]))\n"
     ]
    }
   ],
   "source": [
    "wlsHT_model = ARIMA(wls_HT.loc[:61, ['WLS']], order=(0, 1, 1))\n",
    "wlsHT_model_fit = wlsHT_model.fit(trend='c', full_output=True, disp=True)\n",
    "print(\"{}\\n\".format(wlsHT_model_fit.summary()))\n",
    "\n",
    "wlsHT_fore = wlsHT_model_fit.forecast(steps=1)\n",
    "print(wlsHT_fore)"
   ]
  },
  {
   "cell_type": "code",
   "execution_count": 36,
   "metadata": {},
   "outputs": [
    {
     "name": "stdout",
     "output_type": "stream",
     "text": [
      "                             ARIMA Model Results                              \n",
      "==============================================================================\n",
      "Dep. Variable:                  D.WLS   No. Observations:                   63\n",
      "Model:                 ARIMA(0, 1, 0)   Log Likelihood                  74.301\n",
      "Method:                           css   S.D. of innovations              0.074\n",
      "Date:                Wed, 23 Sep 2020   AIC                           -144.601\n",
      "Time:                        00:21:49   BIC                           -140.315\n",
      "Sample:                             1   HQIC                          -142.916\n",
      "                                                                              \n",
      "==============================================================================\n",
      "                 coef    std err          z      P>|z|      [0.025      0.975]\n",
      "------------------------------------------------------------------------------\n",
      "const          0.0071      0.009      0.757      0.449      -0.011       0.025\n",
      "==============================================================================\n",
      "\n",
      "(array([0.45409524]), array([0.07439891]), array([[0.30827606, 0.59991441]]))\n"
     ]
    }
   ],
   "source": [
    "wlsKT_model = ARIMA(wls_KT.loc[:63, ['WLS']], order=(0, 1, 0))\n",
    "wlsKT_model_fit = wlsKT_model.fit(trend='c', full_output=True, disp=True)\n",
    "print(\"{}\\n\".format(wlsKT_model_fit.summary()))\n",
    "\n",
    "wlsKT_fore = wlsKT_model_fit.forecast(steps=1)\n",
    "print(wlsKT_fore)"
   ]
  },
  {
   "cell_type": "code",
   "execution_count": 37,
   "metadata": {},
   "outputs": [
    {
     "name": "stdout",
     "output_type": "stream",
     "text": [
      "                              ARMA Model Results                              \n",
      "==============================================================================\n",
      "Dep. Variable:                    WLS   No. Observations:                   64\n",
      "Model:                     ARMA(2, 0)   Log Likelihood                  83.576\n",
      "Method:                       css-mle   S.D. of innovations              0.064\n",
      "Date:                Wed, 23 Sep 2020   AIC                           -159.152\n",
      "Time:                        00:21:55   BIC                           -150.516\n",
      "Sample:                             0   HQIC                          -155.750\n",
      "                                                                              \n",
      "==============================================================================\n",
      "                 coef    std err          z      P>|z|      [0.025      0.975]\n",
      "------------------------------------------------------------------------------\n",
      "const          0.6190      0.021     28.915      0.000       0.577       0.661\n",
      "ar.L1.WLS      1.4392      0.122     11.806      0.000       1.200       1.678\n",
      "ar.L2.WLS     -0.8225      0.112     -7.315      0.000      -1.043      -0.602\n",
      "                                    Roots                                    \n",
      "=============================================================================\n",
      "                  Real          Imaginary           Modulus         Frequency\n",
      "-----------------------------------------------------------------------------\n",
      "AR.1            0.8748           -0.6711j            1.1026           -0.1041\n",
      "AR.2            0.8748           +0.6711j            1.1026            0.1041\n",
      "-----------------------------------------------------------------------------\n",
      "\n",
      "(array([0.59864558]), array([0.06392278]), array([[0.47335923, 0.72393193]]))\n"
     ]
    }
   ],
   "source": [
    "wlsLG_model = ARIMA(wls_LG.loc[:63, ['WLS']], order=(2, 0, 0))\n",
    "wlsLG_model_fit = wlsLG_model.fit(trend='c', full_output=True, disp=True)\n",
    "print(\"{}\\n\".format(wlsLG_model_fit.summary()))\n",
    "\n",
    "wlsLG_fore = wlsLG_model_fit.forecast(steps=1)\n",
    "print(wlsLG_fore)\n"
   ]
  },
  {
   "cell_type": "code",
   "execution_count": 38,
   "metadata": {},
   "outputs": [
    {
     "name": "stdout",
     "output_type": "stream",
     "text": [
      "                             ARIMA Model Results                              \n",
      "==============================================================================\n",
      "Dep. Variable:                  D.WLS   No. Observations:                   61\n",
      "Model:                 ARIMA(0, 1, 0)   Log Likelihood                  73.079\n",
      "Method:                           css   S.D. of innovations              0.073\n",
      "Date:                Wed, 23 Sep 2020   AIC                           -142.158\n",
      "Time:                        00:21:57   BIC                           -137.936\n",
      "Sample:                             1   HQIC                          -140.504\n",
      "                                                                              \n",
      "==============================================================================\n",
      "                 coef    std err          z      P>|z|      [0.025      0.975]\n",
      "------------------------------------------------------------------------------\n",
      "const         -0.0084      0.009     -0.896      0.370      -0.027       0.010\n",
      "==============================================================================\n",
      "\n",
      "(array([0.48062295]), array([0.07302485]), array([[0.33749688, 0.62374902]]))\n"
     ]
    }
   ],
   "source": [
    "wlsLT_model = ARIMA(wls_LT.loc[:61, ['WLS']], order=(0, 1, 0))\n",
    "wlsLT_model_fit = wlsLT_model.fit(trend='c', full_output=True, disp=True)\n",
    "print(\"{}\\n\".format(wlsLT_model_fit.summary()))\n",
    "\n",
    "wlsLT_fore = wlsLT_model_fit.forecast(steps=1)\n",
    "print(wlsLT_fore)"
   ]
  },
  {
   "cell_type": "code",
   "execution_count": 39,
   "metadata": {},
   "outputs": [
    {
     "name": "stdout",
     "output_type": "stream",
     "text": [
      "                             ARIMA Model Results                              \n",
      "==============================================================================\n",
      "Dep. Variable:                  D.WLS   No. Observations:                   62\n",
      "Model:                 ARIMA(0, 1, 0)   Log Likelihood                 101.490\n",
      "Method:                           css   S.D. of innovations              0.047\n",
      "Date:                Wed, 23 Sep 2020   AIC                           -198.980\n",
      "Time:                        00:22:01   BIC                           -194.726\n",
      "Sample:                             1   HQIC                          -197.310\n",
      "                                                                              \n",
      "==============================================================================\n",
      "                 coef    std err          z      P>|z|      [0.025      0.975]\n",
      "------------------------------------------------------------------------------\n",
      "const         -0.0049      0.006     -0.820      0.412      -0.017       0.007\n",
      "==============================================================================\n",
      "\n",
      "(array([0.69109677]), array([0.0470815]), array([[0.59881872, 0.78337483]]))\n"
     ]
    }
   ],
   "source": [
    "wlsNC_model = ARIMA(wls_NC.loc[:62, ['WLS']], order=(0, 1, 0))\n",
    "wlsNC_model_fit = wlsNC_model.fit(trend='c', full_output=True, disp=True)\n",
    "print(\"{}\\n\".format(wlsNC_model_fit.summary()))\n",
    "\n",
    "wlsNC_fore = wlsNC_model_fit.forecast(steps=1)\n",
    "print(wlsNC_fore)"
   ]
  },
  {
   "cell_type": "code",
   "execution_count": 40,
   "metadata": {},
   "outputs": [
    {
     "name": "stdout",
     "output_type": "stream",
     "text": [
      "                              ARMA Model Results                              \n",
      "==============================================================================\n",
      "Dep. Variable:                    WLS   No. Observations:                   64\n",
      "Model:                     ARMA(0, 1)   Log Likelihood                  69.833\n",
      "Method:                       css-mle   S.D. of innovations              0.081\n",
      "Date:                Wed, 23 Sep 2020   AIC                           -133.667\n",
      "Time:                        00:22:06   BIC                           -127.190\n",
      "Sample:                             0   HQIC                          -131.115\n",
      "                                                                              \n",
      "==============================================================================\n",
      "                 coef    std err          z      P>|z|      [0.025      0.975]\n",
      "------------------------------------------------------------------------------\n",
      "const          0.5935      0.016     37.669      0.000       0.563       0.624\n",
      "ma.L1.WLS      0.5618      0.149      3.760      0.000       0.269       0.855\n",
      "                                    Roots                                    \n",
      "=============================================================================\n",
      "                  Real          Imaginary           Modulus         Frequency\n",
      "-----------------------------------------------------------------------------\n",
      "MA.1           -1.7799           +0.0000j            1.7799            0.5000\n",
      "-----------------------------------------------------------------------------\n",
      "\n",
      "(array([0.59045501]), array([0.08102096]), array([[0.43165684, 0.74925318]]))\n"
     ]
    }
   ],
   "source": [
    "wlsOB_model = ARIMA(wls_OB.loc[:63, ['WLS']], order=(0, 0, 1))\n",
    "wlsOB_model_fit = wlsOB_model.fit(trend='c', full_output=True, disp=True)\n",
    "print(\"{}\\n\".format(wlsOB_model_fit.summary()))\n",
    "\n",
    "wlsOB_fore = wlsOB_model_fit.forecast(steps=1)\n",
    "print(wlsOB_fore)"
   ]
  },
  {
   "cell_type": "code",
   "execution_count": 41,
   "metadata": {},
   "outputs": [
    {
     "name": "stdout",
     "output_type": "stream",
     "text": [
      "                             ARIMA Model Results                              \n",
      "==============================================================================\n",
      "Dep. Variable:                  D.WLS   No. Observations:                   64\n",
      "Model:                 ARIMA(0, 1, 1)   Log Likelihood                  70.739\n",
      "Method:                       css-mle   S.D. of innovations              0.080\n",
      "Date:                Wed, 23 Sep 2020   AIC                           -135.478\n",
      "Time:                        00:22:08   BIC                           -129.001\n",
      "Sample:                             1   HQIC                          -132.927\n",
      "                                                                              \n",
      "===============================================================================\n",
      "                  coef    std err          z      P>|z|      [0.025      0.975]\n",
      "-------------------------------------------------------------------------------\n",
      "const           0.0017      0.005      0.326      0.744      -0.009       0.012\n",
      "ma.L1.D.WLS    -0.4878      0.132     -3.702      0.000      -0.746      -0.230\n",
      "                                    Roots                                    \n",
      "=============================================================================\n",
      "                  Real          Imaginary           Modulus         Frequency\n",
      "-----------------------------------------------------------------------------\n",
      "MA.1            2.0500           +0.0000j            2.0500            0.0000\n",
      "-----------------------------------------------------------------------------\n",
      "\n",
      "(array([0.29932952]), array([0.07994962]), array([[0.14263113, 0.4560279 ]]))\n"
     ]
    }
   ],
   "source": [
    "wlsSK_model = ARIMA(wls_SK.loc[:64, ['WLS']], order=(0, 1, 1))\n",
    "wlsSK_model_fit = wlsSK_model.fit(trend='c', full_output=True, disp=True)\n",
    "print(\"{}\\n\".format(wlsSK_model_fit.summary()))\n",
    "\n",
    "wlsSK_fore = wlsSK_model_fit.forecast(steps=1)\n",
    "print(wlsSK_fore)"
   ]
  },
  {
   "cell_type": "code",
   "execution_count": 42,
   "metadata": {},
   "outputs": [
    {
     "name": "stdout",
     "output_type": "stream",
     "text": [
      "                             ARIMA Model Results                              \n",
      "==============================================================================\n",
      "Dep. Variable:                  D.WLS   No. Observations:                   64\n",
      "Model:                 ARIMA(2, 1, 0)   Log Likelihood                  85.119\n",
      "Method:                       css-mle   S.D. of innovations              0.064\n",
      "Date:                Wed, 23 Sep 2020   AIC                           -162.237\n",
      "Time:                        00:22:10   BIC                           -153.602\n",
      "Sample:                             1   HQIC                          -158.835\n",
      "                                                                              \n",
      "===============================================================================\n",
      "                  coef    std err          z      P>|z|      [0.025      0.975]\n",
      "-------------------------------------------------------------------------------\n",
      "const           0.0079      0.006      1.260      0.208      -0.004       0.020\n",
      "ar.L1.D.WLS     0.1923      0.109      1.763      0.078      -0.022       0.406\n",
      "ar.L2.D.WLS    -0.4702      0.107     -4.397      0.000      -0.680      -0.261\n",
      "                                    Roots                                    \n",
      "=============================================================================\n",
      "                  Real          Imaginary           Modulus         Frequency\n",
      "-----------------------------------------------------------------------------\n",
      "AR.1            0.2045           -1.4440j            1.4584           -0.2276\n",
      "AR.2            0.2045           +1.4440j            1.4584            0.2276\n",
      "-----------------------------------------------------------------------------\n",
      "\n",
      "(array([0.50284831]), array([0.06373925]), array([[0.37792166, 0.62777495]]))\n"
     ]
    }
   ],
   "source": [
    "wlsSS_model = ARIMA(wls_SS.loc[:64, ['WLS']], order=(2, 1, 0))\n",
    "wlsSS_model_fit = wlsSS_model.fit(trend='c', full_output=True, disp=True)\n",
    "print(\"{}\\n\".format(wlsSS_model_fit.summary()))\n",
    "\n",
    "wlsSS_fore = wlsSS_model_fit.forecast(steps=1)\n",
    "print(wlsSS_fore)"
   ]
  },
  {
   "cell_type": "code",
   "execution_count": 43,
   "metadata": {},
   "outputs": [
    {
     "name": "stdout",
     "output_type": "stream",
     "text": [
      "                             ARIMA Model Results                              \n",
      "==============================================================================\n",
      "Dep. Variable:                  D.WLS   No. Observations:                   64\n",
      "Model:                 ARIMA(0, 1, 1)   Log Likelihood                  68.158\n",
      "Method:                       css-mle   S.D. of innovations              0.083\n",
      "Date:                Wed, 23 Sep 2020   AIC                           -130.316\n",
      "Time:                        00:22:13   BIC                           -123.839\n",
      "Sample:                             1   HQIC                          -127.764\n",
      "                                                                              \n",
      "===============================================================================\n",
      "                  coef    std err          z      P>|z|      [0.025      0.975]\n",
      "-------------------------------------------------------------------------------\n",
      "const          -0.0053      0.006     -0.840      0.401      -0.018       0.007\n",
      "ma.L1.D.WLS    -0.4009      0.123     -3.271      0.001      -0.641      -0.161\n",
      "                                    Roots                                    \n",
      "=============================================================================\n",
      "                  Real          Imaginary           Modulus         Frequency\n",
      "-----------------------------------------------------------------------------\n",
      "MA.1            2.4942           +0.0000j            2.4942            0.0000\n",
      "-----------------------------------------------------------------------------\n",
      "\n",
      "(array([0.61212245]), array([0.08330267]), array([[0.44885222, 0.77539268]]))\n"
     ]
    },
    {
     "name": "stderr",
     "output_type": "stream",
     "text": [
      "C:\\Users\\user\\Anaconda3\\lib\\site-packages\\statsmodels\\base\\model.py:568: ConvergenceWarning: Maximum Likelihood optimization failed to converge. Check mle_retvals\n",
      "  \"Check mle_retvals\", ConvergenceWarning)\n"
     ]
    }
   ],
   "source": [
    "wlsWO_model = ARIMA(wls_WO.loc[:64, ['WLS']], order=(0, 1, 1))\n",
    "wlsWO_model_fit = wlsWO_model.fit(trend='c', full_output=True, disp=True)\n",
    "print(\"{}\\n\".format(wlsWO_model_fit.summary()))\n",
    "\n",
    "wlsWO_fore = wlsWO_model_fit.forecast(steps=1)\n",
    "print(wlsWO_fore)"
   ]
  },
  {
   "cell_type": "markdown",
   "metadata": {},
   "source": [
    "## BA ARIMA\n",
    "\n",
    "--BA-- <br> \n",
    "HH 0,1,4 <br>\n",
    "HT 1,0,1 <br>\n",
    "KT 1,0,0 <br>\n",
    "LG 1,1,2 <br>\n",
    "LT 0,1,0 <br>\n",
    "NC 0,1,0 <br>\n",
    "OB 1,0,1 <br>\n",
    "SK 0,0,4 <br>\n",
    "SS 0,2,2 <br>\n",
    "WO 2,1,2 <br>\n"
   ]
  },
  {
   "cell_type": "code",
   "execution_count": 44,
   "metadata": {},
   "outputs": [
    {
     "name": "stdout",
     "output_type": "stream",
     "text": [
      "                             ARIMA Model Results                              \n",
      "==============================================================================\n",
      "Dep. Variable:                   D.BA   No. Observations:                   64\n",
      "Model:                 ARIMA(0, 1, 4)   Log Likelihood                 163.665\n",
      "Method:                       css-mle   S.D. of innovations              0.018\n",
      "Date:                Wed, 23 Sep 2020   AIC                           -315.330\n",
      "Time:                        00:22:18   BIC                           -302.377\n",
      "Sample:                             1   HQIC                          -310.227\n",
      "                                                                              \n",
      "==============================================================================\n",
      "                 coef    std err          z      P>|z|      [0.025      0.975]\n",
      "------------------------------------------------------------------------------\n",
      "const          0.0103      0.010      1.069      0.285      -0.009       0.029\n",
      "ma.L1.D.BA     1.1102      0.131      8.475      0.000       0.853       1.367\n",
      "ma.L2.D.BA     1.1939      0.233      5.120      0.000       0.737       1.651\n",
      "ma.L3.D.BA     0.6567      0.255      2.573      0.010       0.156       1.157\n",
      "ma.L4.D.BA     0.2673      0.175      1.530      0.126      -0.075       0.610\n",
      "                                    Roots                                    \n",
      "=============================================================================\n",
      "                  Real          Imaginary           Modulus         Frequency\n",
      "-----------------------------------------------------------------------------\n",
      "MA.1           -0.1216           -1.2682j            1.2740           -0.2652\n",
      "MA.2           -0.1216           +1.2682j            1.2740            0.2652\n",
      "MA.3           -1.1067           -1.0391j            1.5181           -0.3800\n",
      "MA.4           -1.1067           +1.0391j            1.5181            0.3800\n",
      "-----------------------------------------------------------------------------\n",
      "\n",
      "(array([0.34829589]), array([0.0184492]), array([[0.31213613, 0.38445565]]))\n"
     ]
    }
   ],
   "source": [
    "baHH_model = ARIMA(ba_HH.loc[:64, ['BA']], order=(0, 1, 4))\n",
    "baHH_model_fit = baHH_model.fit(trend='c', full_output=True, disp=True)\n",
    "print(\"{}\\n\".format(baHH_model_fit.summary()))\n",
    "\n",
    "baHH_fore = baHH_model_fit.forecast(steps=1)\n",
    "print(baHH_fore)"
   ]
  },
  {
   "cell_type": "code",
   "execution_count": 45,
   "metadata": {},
   "outputs": [
    {
     "name": "stdout",
     "output_type": "stream",
     "text": [
      "                              ARMA Model Results                              \n",
      "==============================================================================\n",
      "Dep. Variable:                     BA   No. Observations:                   62\n",
      "Model:                     ARMA(1, 1)   Log Likelihood                 176.699\n",
      "Method:                       css-mle   S.D. of innovations              0.014\n",
      "Date:                Wed, 23 Sep 2020   AIC                           -345.398\n",
      "Time:                        00:22:40   BIC                           -336.890\n",
      "Sample:                             0   HQIC                          -342.058\n",
      "                                                                              \n",
      "==============================================================================\n",
      "                 coef    std err          z      P>|z|      [0.025      0.975]\n",
      "------------------------------------------------------------------------------\n",
      "const          0.3642      0.031     11.733      0.000       0.303       0.425\n",
      "ar.L1.BA       0.9678      0.033     29.591      0.000       0.904       1.032\n",
      "ma.L1.BA      -0.2740      0.164     -1.666      0.096      -0.596       0.048\n",
      "                                    Roots                                    \n",
      "=============================================================================\n",
      "                  Real          Imaginary           Modulus         Frequency\n",
      "-----------------------------------------------------------------------------\n",
      "AR.1            1.0333           +0.0000j            1.0333            0.0000\n",
      "MA.1            3.6495           +0.0000j            3.6495            0.0000\n",
      "-----------------------------------------------------------------------------\n",
      "\n",
      "(array([0.35562956]), array([0.01374836]), array([[0.32868326, 0.38257586]]))\n"
     ]
    }
   ],
   "source": [
    "baHT_model = ARIMA(ba_HT.loc[:61, ['BA']], order=(1, 0, 1))\n",
    "baHT_model_fit = baHT_model.fit(trend='c', full_output=True, disp=True)\n",
    "print(\"{}\\n\".format(baHT_model_fit.summary()))\n",
    "\n",
    "baHT_fore = baHT_model_fit.forecast(steps=1)\n",
    "print(baHT_fore)"
   ]
  },
  {
   "cell_type": "code",
   "execution_count": 46,
   "metadata": {},
   "outputs": [
    {
     "name": "stdout",
     "output_type": "stream",
     "text": [
      "                              ARMA Model Results                              \n",
      "==============================================================================\n",
      "Dep. Variable:                     BA   No. Observations:                   64\n",
      "Model:                     ARMA(1, 0)   Log Likelihood                 202.590\n",
      "Method:                       css-mle   S.D. of innovations              0.010\n",
      "Date:                Wed, 23 Sep 2020   AIC                           -399.181\n",
      "Time:                        00:22:45   BIC                           -392.704\n",
      "Sample:                             0   HQIC                          -396.629\n",
      "                                                                              \n",
      "==============================================================================\n",
      "                 coef    std err          z      P>|z|      [0.025      0.975]\n",
      "------------------------------------------------------------------------------\n",
      "const          0.3478      0.011     32.552      0.000       0.327       0.369\n",
      "ar.L1.BA       0.8895      0.060     14.938      0.000       0.773       1.006\n",
      "                                    Roots                                    \n",
      "=============================================================================\n",
      "                  Real          Imaginary           Modulus         Frequency\n",
      "-----------------------------------------------------------------------------\n",
      "AR.1            1.1243           +0.0000j            1.1243            0.0000\n",
      "-----------------------------------------------------------------------------\n",
      "\n",
      "(array([0.33285246]), array([0.0100856]), array([[0.31308504, 0.35261987]]))\n"
     ]
    }
   ],
   "source": [
    "baKT_model = ARIMA(ba_KT.loc[:63, ['BA']], order=(1, 0, 0))\n",
    "baKT_model_fit = baKT_model.fit(trend='c', full_output=True, disp=True)\n",
    "print(\"{}\\n\".format(baKT_model_fit.summary()))\n",
    "\n",
    "baKT_fore = baKT_model_fit.forecast(steps=1)\n",
    "print(baKT_fore)"
   ]
  },
  {
   "cell_type": "code",
   "execution_count": 47,
   "metadata": {},
   "outputs": [
    {
     "name": "stdout",
     "output_type": "stream",
     "text": [
      "                             ARIMA Model Results                              \n",
      "==============================================================================\n",
      "Dep. Variable:                   D.BA   No. Observations:                   63\n",
      "Model:                 ARIMA(1, 1, 2)   Log Likelihood                 185.253\n",
      "Method:                       css-mle   S.D. of innovations              0.013\n",
      "Date:                Wed, 23 Sep 2020   AIC                           -360.506\n",
      "Time:                        00:22:51   BIC                           -349.791\n",
      "Sample:                             1   HQIC                          -356.292\n",
      "                                                                              \n",
      "==============================================================================\n",
      "                 coef    std err          z      P>|z|      [0.025      0.975]\n",
      "------------------------------------------------------------------------------\n",
      "const          0.0026      0.003      0.931      0.352      -0.003       0.008\n",
      "ar.L1.D.BA    -0.0387      0.411     -0.094      0.925      -0.845       0.768\n",
      "ma.L1.D.BA     0.4671      0.362      1.290      0.197      -0.242       1.177\n",
      "ma.L2.D.BA     0.3762      0.166      2.272      0.023       0.052       0.701\n",
      "                                    Roots                                    \n",
      "=============================================================================\n",
      "                  Real          Imaginary           Modulus         Frequency\n",
      "-----------------------------------------------------------------------------\n",
      "AR.1          -25.8093           +0.0000j           25.8093            0.5000\n",
      "MA.1           -0.6207           -1.5075j            1.6303           -0.3122\n",
      "MA.2           -0.6207           +1.5075j            1.6303            0.3122\n",
      "-----------------------------------------------------------------------------\n",
      "\n",
      "(array([0.39324184]), array([0.01274534]), array([[0.36826145, 0.41822224]]))\n"
     ]
    }
   ],
   "source": [
    "baLG_model = ARIMA(ba_LG.loc[:63, ['BA']], order=(1, 1, 2))\n",
    "baLG_model_fit = baLG_model.fit(trend='c', full_output=True, disp=True)\n",
    "print(\"{}\\n\".format(baLG_model_fit.summary()))\n",
    "\n",
    "baLG_fore = baLG_model_fit.forecast(steps=1)\n",
    "print(baLG_fore)"
   ]
  },
  {
   "cell_type": "code",
   "execution_count": 48,
   "metadata": {},
   "outputs": [
    {
     "name": "stdout",
     "output_type": "stream",
     "text": [
      "                             ARIMA Model Results                              \n",
      "==============================================================================\n",
      "Dep. Variable:                   D.BA   No. Observations:                   61\n",
      "Model:                 ARIMA(0, 1, 0)   Log Likelihood                 167.780\n",
      "Method:                           css   S.D. of innovations              0.015\n",
      "Date:                Wed, 23 Sep 2020   AIC                           -331.560\n",
      "Time:                        00:22:54   BIC                           -327.338\n",
      "Sample:                             1   HQIC                          -329.905\n",
      "                                                                              \n",
      "==============================================================================\n",
      "                 coef    std err          z      P>|z|      [0.025      0.975]\n",
      "------------------------------------------------------------------------------\n",
      "const          0.0019      0.002      0.977      0.328      -0.002       0.006\n",
      "==============================================================================\n",
      "\n",
      "(array([0.35293443]), array([0.01546108]), array([[0.32263127, 0.38323758]]))\n"
     ]
    }
   ],
   "source": [
    "baLT_model = ARIMA(ba_LT.loc[:61, ['BA']], order=(0, 1, 0))\n",
    "baLT_model_fit = baLT_model.fit(trend='c', full_output=True, disp=True)\n",
    "print(\"{}\\n\".format(baLT_model_fit.summary()))\n",
    "\n",
    "baLT_fore = baLT_model_fit.forecast(steps=1)\n",
    "print(baLT_fore)"
   ]
  },
  {
   "cell_type": "code",
   "execution_count": 49,
   "metadata": {},
   "outputs": [
    {
     "name": "stdout",
     "output_type": "stream",
     "text": [
      "                             ARIMA Model Results                              \n",
      "==============================================================================\n",
      "Dep. Variable:                   D.BA   No. Observations:                   62\n",
      "Model:                 ARIMA(0, 1, 0)   Log Likelihood                 162.955\n",
      "Method:                           css   S.D. of innovations              0.017\n",
      "Date:                Wed, 23 Sep 2020   AIC                           -321.909\n",
      "Time:                        00:22:59   BIC                           -317.655\n",
      "Sample:                             1   HQIC                          -320.239\n",
      "                                                                              \n",
      "==============================================================================\n",
      "                 coef    std err          z      P>|z|      [0.025      0.975]\n",
      "------------------------------------------------------------------------------\n",
      "const          0.0031      0.002      1.418      0.156      -0.001       0.007\n",
      "==============================================================================\n",
      "\n",
      "(array([0.29814516]), array([0.01747057]), array([[0.26390347, 0.33238685]]))\n"
     ]
    }
   ],
   "source": [
    "baNC_model = ARIMA(ba_NC.loc[:62, ['BA']], order=(0, 1, 0))\n",
    "baNC_model_fit = baNC_model.fit(trend='c', full_output=True, disp=True)\n",
    "print(\"{}\\n\".format(baNC_model_fit.summary()))\n",
    "\n",
    "baNC_fore = baNC_model_fit.forecast(steps=1)\n",
    "print(baNC_fore)"
   ]
  },
  {
   "cell_type": "code",
   "execution_count": 50,
   "metadata": {},
   "outputs": [
    {
     "name": "stdout",
     "output_type": "stream",
     "text": [
      "                              ARMA Model Results                              \n",
      "==============================================================================\n",
      "Dep. Variable:                     BA   No. Observations:                   64\n",
      "Model:                     ARMA(1, 1)   Log Likelihood                 142.692\n",
      "Method:                       css-mle   S.D. of innovations              0.025\n",
      "Date:                Wed, 23 Sep 2020   AIC                           -277.383\n",
      "Time:                        00:23:08   BIC                           -268.748\n",
      "Sample:                             0   HQIC                          -273.981\n",
      "                                                                              \n",
      "==============================================================================\n",
      "                 coef    std err          z      P>|z|      [0.025      0.975]\n",
      "------------------------------------------------------------------------------\n",
      "const          0.3976      0.026     15.394      0.000       0.347       0.448\n",
      "ar.L1.BA       0.7668      0.174      4.419      0.000       0.427       1.107\n",
      "ma.L1.BA       0.7586      0.092      8.203      0.000       0.577       0.940\n",
      "                                    Roots                                    \n",
      "=============================================================================\n",
      "                  Real          Imaginary           Modulus         Frequency\n",
      "-----------------------------------------------------------------------------\n",
      "AR.1            1.3042           +0.0000j            1.3042            0.0000\n",
      "MA.1           -1.3182           +0.0000j            1.3182            0.5000\n",
      "-----------------------------------------------------------------------------\n",
      "\n",
      "(array([0.36413411]), array([0.02549488]), array([[0.31416507, 0.41410315]]))\n"
     ]
    }
   ],
   "source": [
    "baOB_model = ARIMA(ba_OB.loc[:63, ['BA']], order=(1, 0, 1))\n",
    "baOB_model_fit = baOB_model.fit(trend='c', full_output=True, disp=True)\n",
    "print(\"{}\\n\".format(baOB_model_fit.summary()))\n",
    "\n",
    "baOB_fore = baOB_model_fit.forecast(steps=1)\n",
    "print(baOB_fore)"
   ]
  },
  {
   "cell_type": "code",
   "execution_count": 51,
   "metadata": {},
   "outputs": [
    {
     "name": "stdout",
     "output_type": "stream",
     "text": [
      "                              ARMA Model Results                              \n",
      "==============================================================================\n",
      "Dep. Variable:                     BA   No. Observations:                   65\n",
      "Model:                     ARMA(0, 4)   Log Likelihood                 189.707\n",
      "Method:                       css-mle   S.D. of innovations              0.013\n",
      "Date:                Wed, 23 Sep 2020   AIC                           -367.414\n",
      "Time:                        00:23:13   BIC                           -354.368\n",
      "Sample:                             0   HQIC                          -362.266\n",
      "                                                                              \n",
      "==============================================================================\n",
      "                 coef    std err          z      P>|z|      [0.025      0.975]\n",
      "------------------------------------------------------------------------------\n",
      "const          0.3425      0.005     67.317      0.000       0.332       0.352\n",
      "ma.L1.BA       0.7132      0.154      4.619      0.000       0.411       1.016\n",
      "ma.L2.BA       0.1157      0.112      1.035      0.301      -0.103       0.335\n",
      "ma.L3.BA       0.7863      0.222      3.548      0.000       0.352       1.221\n",
      "ma.L4.BA       0.7125      0.257      2.777      0.005       0.210       1.215\n",
      "                                    Roots                                    \n",
      "=============================================================================\n",
      "                  Real          Imaginary           Modulus         Frequency\n",
      "-----------------------------------------------------------------------------\n",
      "MA.1            0.5178           -0.9071j            1.0444           -0.1674\n",
      "MA.2            0.5178           +0.9071j            1.0444            0.1674\n",
      "MA.3           -1.0696           -0.3778j            1.1343           -0.4460\n",
      "MA.4           -1.0696           +0.3778j            1.1343            0.4460\n",
      "-----------------------------------------------------------------------------\n",
      "\n",
      "(array([0.36299647]), array([0.01264483]), array([[0.33821305, 0.38777989]]))\n"
     ]
    }
   ],
   "source": [
    "baSK_model = ARIMA(ba_SK.loc[:64, ['BA']], order=(0, 0, 4))\n",
    "baSK_model_fit = baSK_model.fit(trend='c', full_output=True, disp=True)\n",
    "print(\"{}\\n\".format(baSK_model_fit.summary()))\n",
    "\n",
    "baSK_fore = baSK_model_fit.forecast(steps=1)\n",
    "print(baSK_fore)"
   ]
  },
  {
   "cell_type": "code",
   "execution_count": 52,
   "metadata": {},
   "outputs": [
    {
     "name": "stdout",
     "output_type": "stream",
     "text": [
      "                             ARIMA Model Results                              \n",
      "==============================================================================\n",
      "Dep. Variable:                  D2.BA   No. Observations:                   63\n",
      "Model:                 ARIMA(0, 2, 2)   Log Likelihood                 187.235\n",
      "Method:                       css-mle   S.D. of innovations              0.012\n",
      "Date:                Wed, 23 Sep 2020   AIC                           -366.469\n",
      "Time:                        00:23:18   BIC                           -357.897\n",
      "Sample:                             2   HQIC                          -363.097\n",
      "                                                                              \n",
      "===============================================================================\n",
      "                  coef    std err          z      P>|z|      [0.025      0.975]\n",
      "-------------------------------------------------------------------------------\n",
      "const         3.24e-05    9.6e-05      0.338      0.736      -0.000       0.000\n",
      "ma.L1.D2.BA    -0.8125      0.166     -4.897      0.000      -1.138      -0.487\n",
      "ma.L2.D2.BA    -0.1875      0.161     -1.166      0.244      -0.503       0.128\n",
      "                                    Roots                                    \n",
      "=============================================================================\n",
      "                  Real          Imaginary           Modulus         Frequency\n",
      "-----------------------------------------------------------------------------\n",
      "MA.1            1.0000           +0.0000j            1.0000            0.0000\n",
      "MA.2           -5.3326           +0.0000j            5.3326            0.5000\n",
      "-----------------------------------------------------------------------------\n",
      "\n",
      "(array([0.33207832]), array([0.01201599]), array([[0.30852742, 0.35562922]]))\n"
     ]
    }
   ],
   "source": [
    "baSS_model = ARIMA(ba_SS.loc[:64, ['BA']], order=(0, 2, 2))\n",
    "baSS_model_fit = baSS_model.fit(trend='c', full_output=True, disp=True)\n",
    "print(\"{}\\n\".format(baSS_model_fit.summary()))\n",
    "\n",
    "baSS_fore = baSS_model_fit.forecast(steps=1)\n",
    "print(baSS_fore)"
   ]
  },
  {
   "cell_type": "code",
   "execution_count": 53,
   "metadata": {},
   "outputs": [
    {
     "name": "stdout",
     "output_type": "stream",
     "text": [
      "                             ARIMA Model Results                              \n",
      "==============================================================================\n",
      "Dep. Variable:                   D.BA   No. Observations:                   65\n",
      "Model:                 ARIMA(2, 1, 2)   Log Likelihood                 182.184\n",
      "Method:                       css-mle   S.D. of innovations              0.014\n",
      "Date:                Wed, 23 Sep 2020   AIC                           -352.369\n",
      "Time:                        00:23:23   BIC                           -339.322\n",
      "Sample:                             1   HQIC                          -347.221\n",
      "                                                                              \n",
      "==============================================================================\n",
      "                 coef    std err          z      P>|z|      [0.025      0.975]\n",
      "------------------------------------------------------------------------------\n",
      "const          0.0022      0.002      1.340      0.180      -0.001       0.005\n",
      "ar.L1.D.BA    -0.7837      0.165     -4.754      0.000      -1.107      -0.461\n",
      "ar.L2.D.BA    -0.9130      0.096     -9.494      0.000      -1.101      -0.725\n",
      "ma.L1.D.BA     0.8044      0.229      3.520      0.000       0.356       1.252\n",
      "ma.L2.D.BA     0.5941      0.151      3.928      0.000       0.298       0.891\n",
      "                                    Roots                                    \n",
      "=============================================================================\n",
      "                  Real          Imaginary           Modulus         Frequency\n",
      "-----------------------------------------------------------------------------\n",
      "AR.1           -0.4292           -0.9545j            1.0466           -0.3173\n",
      "AR.2           -0.4292           +0.9545j            1.0466            0.3173\n",
      "MA.1           -0.6770           -1.1068j            1.2974           -0.3374\n",
      "MA.2           -0.6770           +1.1068j            1.2974            0.3374\n",
      "-----------------------------------------------------------------------------\n",
      "\n",
      "(array([0.38777146]), array([0.01448857]), array([[0.35937439, 0.41616854]]))\n"
     ]
    }
   ],
   "source": [
    "baWO_model = ARIMA(ba_WO.loc[:65, ['BA']], order=(2, 1, 2))\n",
    "baWO_model_fit = baWO_model.fit(trend='c', full_output=True, disp=True)\n",
    "print(\"{}\\n\".format(baWO_model_fit.summary()))\n",
    "\n",
    "baWO_fore = baWO_model_fit.forecast(steps=1)\n",
    "print(baWO_fore)"
   ]
  }
 ],
 "metadata": {
  "kernelspec": {
   "display_name": "Python 3",
   "language": "python",
   "name": "python3"
  },
  "language_info": {
   "codemirror_mode": {
    "name": "ipython",
    "version": 3
   },
   "file_extension": ".py",
   "mimetype": "text/x-python",
   "name": "python",
   "nbconvert_exporter": "python",
   "pygments_lexer": "ipython3",
   "version": "3.7.7"
  }
 },
 "nbformat": 4,
 "nbformat_minor": 4
}
