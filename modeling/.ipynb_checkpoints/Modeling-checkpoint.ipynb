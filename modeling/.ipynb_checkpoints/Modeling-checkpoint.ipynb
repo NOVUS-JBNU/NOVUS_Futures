{
 "cells": [
  {
   "cell_type": "code",
   "execution_count": 1,
   "metadata": {},
   "outputs": [],
   "source": [
    "import pandas as pd \n",
    "import numpy as np\n",
    "%matplotlib notebook\n",
    "import matplotlib.pyplot as plt"
   ]
  },
  {
   "cell_type": "code",
   "execution_count": 4,
   "metadata": {},
   "outputs": [],
   "source": [
    "# PIT\n",
    "pit_HT = pd.read_csv('./pit/pit_HT.csv')\n",
    "pit_HH = pd.read_csv('./pit/pit_HH.csv')\n",
    "pit_KT = pd.read_csv('./pit/pit_KT.csv')\n",
    "pit_LG = pd.read_csv('./pit/pit_LG.csv')\n",
    "pit_LT = pd.read_csv('./pit/pit_LT.csv')\n",
    "pit_NC = pd.read_csv('./pit/pit_NC.csv')\n",
    "pit_OB = pd.read_csv('./pit/pit_OB.csv')\n",
    "pit_SK = pd.read_csv('./pit/pit_SK.csv')\n",
    "pit_SS = pd.read_csv('./pit/pit_SS.csv')\n",
    "pit_WO = pd.read_csv('./pit/pit_WO.csv')"
   ]
  },
  {
   "cell_type": "code",
   "execution_count": 5,
   "metadata": {},
   "outputs": [
    {
     "data": {
      "text/html": [
       "<div>\n",
       "<style scoped>\n",
       "    .dataframe tbody tr th:only-of-type {\n",
       "        vertical-align: middle;\n",
       "    }\n",
       "\n",
       "    .dataframe tbody tr th {\n",
       "        vertical-align: top;\n",
       "    }\n",
       "\n",
       "    .dataframe thead th {\n",
       "        text-align: right;\n",
       "    }\n",
       "</style>\n",
       "<table border=\"1\" class=\"dataframe\">\n",
       "  <thead>\n",
       "    <tr style=\"text-align: right;\">\n",
       "      <th></th>\n",
       "      <th>Unnamed: 0</th>\n",
       "      <th>GDAY_DS</th>\n",
       "      <th>ER</th>\n",
       "      <th>WLS</th>\n",
       "    </tr>\n",
       "  </thead>\n",
       "  <tbody>\n",
       "    <tr>\n",
       "      <th>0</th>\n",
       "      <td>1</td>\n",
       "      <td>2020-05-05</td>\n",
       "      <td>11.000</td>\n",
       "      <td>0.000</td>\n",
       "    </tr>\n",
       "    <tr>\n",
       "      <th>1</th>\n",
       "      <td>2</td>\n",
       "      <td>2020-05-06</td>\n",
       "      <td>8.750</td>\n",
       "      <td>0.000</td>\n",
       "    </tr>\n",
       "    <tr>\n",
       "      <th>2</th>\n",
       "      <td>3</td>\n",
       "      <td>2020-05-07</td>\n",
       "      <td>7.833</td>\n",
       "      <td>0.111</td>\n",
       "    </tr>\n",
       "    <tr>\n",
       "      <th>3</th>\n",
       "      <td>4</td>\n",
       "      <td>2020-05-08</td>\n",
       "      <td>7.250</td>\n",
       "      <td>0.146</td>\n",
       "    </tr>\n",
       "    <tr>\n",
       "      <th>4</th>\n",
       "      <td>5</td>\n",
       "      <td>2020-05-09</td>\n",
       "      <td>7.200</td>\n",
       "      <td>0.157</td>\n",
       "    </tr>\n",
       "  </tbody>\n",
       "</table>\n",
       "</div>"
      ],
      "text/plain": [
       "   Unnamed: 0     GDAY_DS      ER    WLS\n",
       "0           1  2020-05-05  11.000  0.000\n",
       "1           2  2020-05-06   8.750  0.000\n",
       "2           3  2020-05-07   7.833  0.111\n",
       "3           4  2020-05-08   7.250  0.146\n",
       "4           5  2020-05-09   7.200  0.157"
      ]
     },
     "execution_count": 5,
     "metadata": {},
     "output_type": "execute_result"
    }
   ],
   "source": [
    "pit_HT.head()"
   ]
  },
  {
   "cell_type": "code",
   "execution_count": 6,
   "metadata": {},
   "outputs": [
    {
     "data": {
      "text/html": [
       "<div>\n",
       "<style scoped>\n",
       "    .dataframe tbody tr th:only-of-type {\n",
       "        vertical-align: middle;\n",
       "    }\n",
       "\n",
       "    .dataframe tbody tr th {\n",
       "        vertical-align: top;\n",
       "    }\n",
       "\n",
       "    .dataframe thead th {\n",
       "        text-align: right;\n",
       "    }\n",
       "</style>\n",
       "<table border=\"1\" class=\"dataframe\">\n",
       "  <thead>\n",
       "    <tr style=\"text-align: right;\">\n",
       "      <th></th>\n",
       "      <th>GDAY_DS</th>\n",
       "      <th>ER</th>\n",
       "    </tr>\n",
       "  </thead>\n",
       "  <tbody>\n",
       "    <tr>\n",
       "      <th>0</th>\n",
       "      <td>2020-05-05</td>\n",
       "      <td>0.000</td>\n",
       "    </tr>\n",
       "    <tr>\n",
       "      <th>1</th>\n",
       "      <td>2020-05-06</td>\n",
       "      <td>1.000</td>\n",
       "    </tr>\n",
       "    <tr>\n",
       "      <th>2</th>\n",
       "      <td>2020-05-07</td>\n",
       "      <td>3.333</td>\n",
       "    </tr>\n",
       "    <tr>\n",
       "      <th>3</th>\n",
       "      <td>2020-05-08</td>\n",
       "      <td>3.250</td>\n",
       "    </tr>\n",
       "    <tr>\n",
       "      <th>4</th>\n",
       "      <td>2020-05-09</td>\n",
       "      <td>3.200</td>\n",
       "    </tr>\n",
       "  </tbody>\n",
       "</table>\n",
       "</div>"
      ],
      "text/plain": [
       "      GDAY_DS     ER\n",
       "0  2020-05-05  0.000\n",
       "1  2020-05-06  1.000\n",
       "2  2020-05-07  3.333\n",
       "3  2020-05-08  3.250\n",
       "4  2020-05-09  3.200"
      ]
     },
     "execution_count": 6,
     "metadata": {},
     "output_type": "execute_result"
    }
   ],
   "source": [
    "# ER\n",
    "er_HT = pit_HT.iloc[:,[1,2]]\n",
    "er_HH = pit_HH.iloc[:,[1,2]]\n",
    "er_KT = pit_KT.iloc[:,[1,2]]\n",
    "er_LG = pit_LG.iloc[:,[1,2]]\n",
    "er_LT = pit_LT.iloc[:,[1,2]]\n",
    "er_NC = pit_NC.iloc[:,[1,2]]\n",
    "er_OB = pit_OB.iloc[:,[1,2]]\n",
    "er_SK = pit_SK.iloc[:,[1,2]]\n",
    "er_SS = pit_SS.iloc[:,[1,2]]\n",
    "er_WO = pit_WO.iloc[:,[1,2]]\n",
    "er_WO.head()"
   ]
  },
  {
   "cell_type": "code",
   "execution_count": 7,
   "metadata": {},
   "outputs": [],
   "source": [
    "# WLS\n",
    "wls_HT = pit_HT.iloc[:,[1,3]]\n",
    "wls_HH = pit_HH.iloc[:,[1,3]]\n",
    "wls_KT = pit_KT.iloc[:,[1,3]]\n",
    "wls_LG = pit_LG.iloc[:,[1,3]]\n",
    "wls_LT = pit_LT.iloc[:,[1,3]]\n",
    "wls_NC = pit_NC.iloc[:,[1,3]]\n",
    "wls_OB = pit_OB.iloc[:,[1,3]]\n",
    "wls_SK = pit_SK.iloc[:,[1,3]]\n",
    "wls_SS = pit_SS.iloc[:,[1,3]]\n",
    "wls_WO = pit_WO.iloc[:,[1,3]]"
   ]
  },
  {
   "cell_type": "code",
   "execution_count": 8,
   "metadata": {},
   "outputs": [
    {
     "name": "stdout",
     "output_type": "stream",
     "text": [
      "       GDAY_DS    WLS\n",
      "0   2020-05-05  1.000\n",
      "1   2020-05-06  1.000\n",
      "2   2020-05-07  0.667\n",
      "3   2020-05-08  0.750\n",
      "4   2020-05-09  0.800\n",
      "..         ...    ...\n",
      "61  2020-07-15  0.622\n",
      "62  2020-07-16  0.609\n",
      "63  2020-07-17  0.617\n",
      "64  2020-07-18  0.625\n",
      "65  2020-07-19  0.633\n",
      "\n",
      "[66 rows x 2 columns]\n"
     ]
    }
   ],
   "source": [
    "print(pit_WO.loc[:65,['GDAY_DS','WLS']])"
   ]
  },
  {
   "cell_type": "code",
   "execution_count": 9,
   "metadata": {},
   "outputs": [
    {
     "data": {
      "text/html": [
       "<div>\n",
       "<style scoped>\n",
       "    .dataframe tbody tr th:only-of-type {\n",
       "        vertical-align: middle;\n",
       "    }\n",
       "\n",
       "    .dataframe tbody tr th {\n",
       "        vertical-align: top;\n",
       "    }\n",
       "\n",
       "    .dataframe thead th {\n",
       "        text-align: right;\n",
       "    }\n",
       "</style>\n",
       "<table border=\"1\" class=\"dataframe\">\n",
       "  <thead>\n",
       "    <tr style=\"text-align: right;\">\n",
       "      <th></th>\n",
       "      <th>Unnamed: 0</th>\n",
       "      <th>GDAY_DS</th>\n",
       "      <th>BA</th>\n",
       "    </tr>\n",
       "  </thead>\n",
       "  <tbody>\n",
       "    <tr>\n",
       "      <th>0</th>\n",
       "      <td>1</td>\n",
       "      <td>2020-05-05</td>\n",
       "      <td>0.219</td>\n",
       "    </tr>\n",
       "    <tr>\n",
       "      <th>1</th>\n",
       "      <td>2</td>\n",
       "      <td>2020-05-06</td>\n",
       "      <td>0.281</td>\n",
       "    </tr>\n",
       "    <tr>\n",
       "      <th>2</th>\n",
       "      <td>3</td>\n",
       "      <td>2020-05-07</td>\n",
       "      <td>0.363</td>\n",
       "    </tr>\n",
       "    <tr>\n",
       "      <th>3</th>\n",
       "      <td>4</td>\n",
       "      <td>2020-05-08</td>\n",
       "      <td>0.328</td>\n",
       "    </tr>\n",
       "    <tr>\n",
       "      <th>4</th>\n",
       "      <td>5</td>\n",
       "      <td>2020-05-09</td>\n",
       "      <td>0.342</td>\n",
       "    </tr>\n",
       "  </tbody>\n",
       "</table>\n",
       "</div>"
      ],
      "text/plain": [
       "   Unnamed: 0     GDAY_DS     BA\n",
       "0           1  2020-05-05  0.219\n",
       "1           2  2020-05-06  0.281\n",
       "2           3  2020-05-07  0.363\n",
       "3           4  2020-05-08  0.328\n",
       "4           5  2020-05-09  0.342"
      ]
     },
     "execution_count": 9,
     "metadata": {},
     "output_type": "execute_result"
    }
   ],
   "source": [
    "# HIT\n",
    "hit_HT = pd.read_csv('./hit/hit_HT.csv')\n",
    "hit_HH = pd.read_csv('./hit/hit_HH.csv')\n",
    "hit_KT = pd.read_csv('./hit/hit_KT.csv')\n",
    "hit_LG = pd.read_csv('./hit/hit_LG.csv')\n",
    "hit_LT = pd.read_csv('./hit/hit_LT.csv')\n",
    "hit_NC = pd.read_csv('./hit/hit_NC.csv')\n",
    "hit_OB = pd.read_csv('./hit/hit_OB.csv')\n",
    "hit_SK = pd.read_csv('./hit/hit_SK.csv')\n",
    "hit_SS = pd.read_csv('./hit/hit_SS.csv')\n",
    "hit_WO = pd.read_csv('./hit/hit_WO.csv')\n",
    "hit_WO.head()"
   ]
  },
  {
   "cell_type": "code",
   "execution_count": 10,
   "metadata": {},
   "outputs": [
    {
     "data": {
      "text/html": [
       "<div>\n",
       "<style scoped>\n",
       "    .dataframe tbody tr th:only-of-type {\n",
       "        vertical-align: middle;\n",
       "    }\n",
       "\n",
       "    .dataframe tbody tr th {\n",
       "        vertical-align: top;\n",
       "    }\n",
       "\n",
       "    .dataframe thead th {\n",
       "        text-align: right;\n",
       "    }\n",
       "</style>\n",
       "<table border=\"1\" class=\"dataframe\">\n",
       "  <thead>\n",
       "    <tr style=\"text-align: right;\">\n",
       "      <th></th>\n",
       "      <th>GDAY_DS</th>\n",
       "      <th>BA</th>\n",
       "    </tr>\n",
       "  </thead>\n",
       "  <tbody>\n",
       "    <tr>\n",
       "      <th>0</th>\n",
       "      <td>2020-05-05</td>\n",
       "      <td>0.219</td>\n",
       "    </tr>\n",
       "    <tr>\n",
       "      <th>1</th>\n",
       "      <td>2020-05-06</td>\n",
       "      <td>0.281</td>\n",
       "    </tr>\n",
       "    <tr>\n",
       "      <th>2</th>\n",
       "      <td>2020-05-07</td>\n",
       "      <td>0.363</td>\n",
       "    </tr>\n",
       "    <tr>\n",
       "      <th>3</th>\n",
       "      <td>2020-05-08</td>\n",
       "      <td>0.328</td>\n",
       "    </tr>\n",
       "    <tr>\n",
       "      <th>4</th>\n",
       "      <td>2020-05-09</td>\n",
       "      <td>0.342</td>\n",
       "    </tr>\n",
       "  </tbody>\n",
       "</table>\n",
       "</div>"
      ],
      "text/plain": [
       "      GDAY_DS     BA\n",
       "0  2020-05-05  0.219\n",
       "1  2020-05-06  0.281\n",
       "2  2020-05-07  0.363\n",
       "3  2020-05-08  0.328\n",
       "4  2020-05-09  0.342"
      ]
     },
     "execution_count": 10,
     "metadata": {},
     "output_type": "execute_result"
    }
   ],
   "source": [
    "# BA\n",
    "ba_HT = hit_HT.iloc[:,[1,2]]\n",
    "ba_HH = hit_HH.iloc[:,[1,2]]\n",
    "ba_KT = hit_KT.iloc[:,[1,2]]\n",
    "ba_LG = hit_LG.iloc[:,[1,2]]\n",
    "ba_LT = hit_LT.iloc[:,[1,2]]\n",
    "ba_NC = hit_NC.iloc[:,[1,2]]\n",
    "ba_OB = hit_OB.iloc[:,[1,2]]\n",
    "ba_SK = hit_SK.iloc[:,[1,2]]\n",
    "ba_SS = hit_SS.iloc[:,[1,2]]\n",
    "ba_WO = hit_WO.iloc[:,[1,2]]\n",
    "ba_WO.head()"
   ]
  },
  {
   "cell_type": "markdown",
   "metadata": {},
   "source": [
    "## ER ARIMA\n",
    "\n",
    "--ER-- <br>\n",
    "한화 1,2,1 <br>\n",
    "기아 1,2,1 <br>\n",
    "kt 0,1,0 <br>\n",
    "lg 1,1,0 <br>\n",
    "롯데 1,0,0 <br> \n",
    "nc 0,2,1 <br>\n",
    "두산 2,1,1 <br>\n",
    "sk 1,0,1  <br>\n",
    "삼성 1,0,0 <br>\n",
    "키움 0,1,1 "
   ]
  },
  {
   "cell_type": "code",
   "execution_count": 11,
   "metadata": {},
   "outputs": [
    {
     "name": "stdout",
     "output_type": "stream",
     "text": [
      "                             ARIMA Model Results                              \n",
      "==============================================================================\n",
      "Dep. Variable:                  D2.ER   No. Observations:                   63\n",
      "Model:                 ARIMA(1, 2, 1)   Log Likelihood                  66.756\n",
      "Method:                       css-mle   S.D. of innovations              0.083\n",
      "Date:                Wed, 23 Sep 2020   AIC                           -127.513\n",
      "Time:                        01:05:15   BIC                           -121.083\n",
      "Sample:                             2   HQIC                          -124.984\n",
      "                                                                              \n",
      "===============================================================================\n",
      "                  coef    std err          z      P>|z|      [0.025      0.975]\n",
      "-------------------------------------------------------------------------------\n",
      "ar.L1.D2.ER     0.9648      0.051     18.816      0.000       0.864       1.065\n",
      "ma.L1.D2.ER    -0.4104      0.173     -2.371      0.018      -0.750      -0.071\n",
      "                                    Roots                                    \n",
      "=============================================================================\n",
      "                  Real          Imaginary           Modulus         Frequency\n",
      "-----------------------------------------------------------------------------\n",
      "AR.1            1.0365           +0.0000j            1.0365            0.0000\n",
      "MA.1            2.4368           +0.0000j            2.4368            0.0000\n",
      "-----------------------------------------------------------------------------\n",
      "\n",
      "(array([4.60812778]), array([0.08264247]), array([[4.44615151, 4.77010405]]))\n"
     ]
    }
   ],
   "source": [
    "#한화 자책 1,2,1\n",
    "import statsmodels.api as sm\n",
    "from statsmodels.tsa.arima_model import ARIMA\n",
    "\n",
    "erHH_model = ARIMA(er_HH.loc[:64,['ER']], order=(1,2,1))\n",
    "erHH_model_fit = erHH_model.fit(trend='nc', full_output=True, disp=True)\n",
    "print(\"{}\\n\".format(erHH_model_fit.summary()))\n",
    "\n",
    "erHH_fore = erHH_model_fit.forecast(steps=1)\n",
    "print(erHH_fore)"
   ]
  },
  {
   "cell_type": "code",
   "execution_count": 12,
   "metadata": {},
   "outputs": [
    {
     "name": "stdout",
     "output_type": "stream",
     "text": [
      "                             ARIMA Model Results                              \n",
      "==============================================================================\n",
      "Dep. Variable:                  D2.ER   No. Observations:                   60\n",
      "Model:                 ARIMA(1, 2, 1)   Log Likelihood                  18.777\n",
      "Method:                       css-mle   S.D. of innovations              0.175\n",
      "Date:                Wed, 23 Sep 2020   AIC                            -31.554\n",
      "Time:                        01:05:26   BIC                            -25.271\n",
      "Sample:                             2   HQIC                           -29.096\n",
      "                                                                              \n",
      "===============================================================================\n",
      "                  coef    std err          z      P>|z|      [0.025      0.975]\n",
      "-------------------------------------------------------------------------------\n",
      "ar.L1.D2.ER     0.9511      0.070     13.554      0.000       0.814       1.089\n",
      "ma.L1.D2.ER    -0.3625      0.147     -2.474      0.013      -0.650      -0.075\n",
      "                                    Roots                                    \n",
      "=============================================================================\n",
      "                  Real          Imaginary           Modulus         Frequency\n",
      "-----------------------------------------------------------------------------\n",
      "AR.1            1.0514           +0.0000j            1.0514            0.0000\n",
      "MA.1            2.7586           +0.0000j            2.7586            0.0000\n",
      "-----------------------------------------------------------------------------\n",
      "\n",
      "(array([4.27870166]), array([0.1745422]), array([[3.93660522, 4.62079809]]))\n"
     ]
    }
   ],
   "source": [
    "# 기아 자책 1,2,1\n",
    "erHT_model = ARIMA(er_HT.loc[:61, ['ER']], order=(1, 2, 1))\n",
    "erHT_model_fit = erHT_model.fit(trend='nc', full_output=True, disp=True)\n",
    "print(\"{}\\n\".format(erHT_model_fit.summary()))\n",
    "\n",
    "erHT_fore = erHT_model_fit.forecast(steps=1)\n",
    "print(erHT_fore)"
   ]
  },
  {
   "cell_type": "code",
   "execution_count": 15,
   "metadata": {},
   "outputs": [
    {
     "ename": "ValueError",
     "evalue": "Estimation requires the inclusion of least one AR term, MA term, a constant or an exogenous variable.",
     "output_type": "error",
     "traceback": [
      "\u001b[1;31m---------------------------------------------------------------------------\u001b[0m",
      "\u001b[1;31mValueError\u001b[0m                                Traceback (most recent call last)",
      "\u001b[1;32m<ipython-input-15-242665593a5c>\u001b[0m in \u001b[0;36m<module>\u001b[1;34m\u001b[0m\n\u001b[0;32m      1\u001b[0m \u001b[1;31m# KT 자책 0,1,0\u001b[0m\u001b[1;33m\u001b[0m\u001b[1;33m\u001b[0m\u001b[1;33m\u001b[0m\u001b[0m\n\u001b[0;32m      2\u001b[0m \u001b[0merKT_model\u001b[0m \u001b[1;33m=\u001b[0m \u001b[0mARIMA\u001b[0m\u001b[1;33m(\u001b[0m\u001b[0mer_KT\u001b[0m\u001b[1;33m.\u001b[0m\u001b[0mloc\u001b[0m\u001b[1;33m[\u001b[0m\u001b[1;33m:\u001b[0m\u001b[1;36m63\u001b[0m\u001b[1;33m,\u001b[0m \u001b[1;33m[\u001b[0m\u001b[1;34m'ER'\u001b[0m\u001b[1;33m]\u001b[0m\u001b[1;33m]\u001b[0m\u001b[1;33m,\u001b[0m \u001b[0morder\u001b[0m\u001b[1;33m=\u001b[0m\u001b[1;33m(\u001b[0m\u001b[1;36m0\u001b[0m\u001b[1;33m,\u001b[0m\u001b[1;36m1\u001b[0m\u001b[1;33m,\u001b[0m\u001b[1;36m0\u001b[0m\u001b[1;33m)\u001b[0m\u001b[1;33m)\u001b[0m\u001b[1;33m\u001b[0m\u001b[1;33m\u001b[0m\u001b[0m\n\u001b[1;32m----> 3\u001b[1;33m \u001b[0merKT_model_fit\u001b[0m \u001b[1;33m=\u001b[0m \u001b[0merKT_model\u001b[0m\u001b[1;33m.\u001b[0m\u001b[0mfit\u001b[0m\u001b[1;33m(\u001b[0m\u001b[0mtrend\u001b[0m\u001b[1;33m=\u001b[0m\u001b[1;34m'nc'\u001b[0m\u001b[1;33m,\u001b[0m \u001b[0mfull_output\u001b[0m\u001b[1;33m=\u001b[0m\u001b[1;32mTrue\u001b[0m\u001b[1;33m,\u001b[0m \u001b[0mdisp\u001b[0m\u001b[1;33m=\u001b[0m\u001b[1;32mTrue\u001b[0m\u001b[1;33m)\u001b[0m\u001b[1;33m\u001b[0m\u001b[1;33m\u001b[0m\u001b[0m\n\u001b[0m\u001b[0;32m      4\u001b[0m \u001b[0mprint\u001b[0m\u001b[1;33m(\u001b[0m\u001b[1;34m\"{}\\n\"\u001b[0m\u001b[1;33m.\u001b[0m\u001b[0mformat\u001b[0m\u001b[1;33m(\u001b[0m\u001b[0merKT_model_fit\u001b[0m\u001b[1;33m.\u001b[0m\u001b[0msummary\u001b[0m\u001b[1;33m(\u001b[0m\u001b[1;33m)\u001b[0m\u001b[1;33m)\u001b[0m\u001b[1;33m)\u001b[0m\u001b[1;33m\u001b[0m\u001b[1;33m\u001b[0m\u001b[0m\n\u001b[0;32m      5\u001b[0m \u001b[1;33m\u001b[0m\u001b[0m\n",
      "\u001b[1;32m~\\Anaconda3\\lib\\site-packages\\statsmodels\\tsa\\arima_model.py\u001b[0m in \u001b[0;36mfit\u001b[1;34m(self, start_params, trend, method, transparams, solver, maxiter, full_output, disp, callback, start_ar_lags, **kwargs)\u001b[0m\n\u001b[0;32m   1198\u001b[0m                                         \u001b[0mmethod\u001b[0m\u001b[1;33m,\u001b[0m \u001b[0mtransparams\u001b[0m\u001b[1;33m,\u001b[0m \u001b[0msolver\u001b[0m\u001b[1;33m,\u001b[0m\u001b[1;33m\u001b[0m\u001b[1;33m\u001b[0m\u001b[0m\n\u001b[0;32m   1199\u001b[0m                                         \u001b[0mmaxiter\u001b[0m\u001b[1;33m,\u001b[0m \u001b[0mfull_output\u001b[0m\u001b[1;33m,\u001b[0m \u001b[0mdisp\u001b[0m\u001b[1;33m,\u001b[0m\u001b[1;33m\u001b[0m\u001b[1;33m\u001b[0m\u001b[0m\n\u001b[1;32m-> 1200\u001b[1;33m                                         callback, start_ar_lags, **kwargs)\n\u001b[0m\u001b[0;32m   1201\u001b[0m         \u001b[0mnormalized_cov_params\u001b[0m \u001b[1;33m=\u001b[0m \u001b[1;32mNone\u001b[0m  \u001b[1;31m# TODO: fix this?\u001b[0m\u001b[1;33m\u001b[0m\u001b[1;33m\u001b[0m\u001b[0m\n\u001b[0;32m   1202\u001b[0m         arima_fit = ARIMAResults(self, mlefit._results.params,\n",
      "\u001b[1;32m~\\Anaconda3\\lib\\site-packages\\statsmodels\\tsa\\arima_model.py\u001b[0m in \u001b[0;36mfit\u001b[1;34m(self, start_params, trend, method, transparams, solver, maxiter, full_output, disp, callback, start_ar_lags, **kwargs)\u001b[0m\n\u001b[0;32m    955\u001b[0m         \u001b[1;31m# Check has something to estimate\u001b[0m\u001b[1;33m\u001b[0m\u001b[1;33m\u001b[0m\u001b[1;33m\u001b[0m\u001b[0m\n\u001b[0;32m    956\u001b[0m         \u001b[1;32mif\u001b[0m \u001b[0mk_ar\u001b[0m \u001b[1;33m==\u001b[0m \u001b[1;36m0\u001b[0m \u001b[1;32mand\u001b[0m \u001b[0mk_ma\u001b[0m \u001b[1;33m==\u001b[0m \u001b[1;36m0\u001b[0m \u001b[1;32mand\u001b[0m \u001b[0mk_trend\u001b[0m \u001b[1;33m==\u001b[0m \u001b[1;36m0\u001b[0m \u001b[1;32mand\u001b[0m \u001b[0mk_exog\u001b[0m \u001b[1;33m==\u001b[0m \u001b[1;36m0\u001b[0m\u001b[1;33m:\u001b[0m\u001b[1;33m\u001b[0m\u001b[1;33m\u001b[0m\u001b[0m\n\u001b[1;32m--> 957\u001b[1;33m             raise ValueError(\"Estimation requires the inclusion of least one \"\n\u001b[0m\u001b[0;32m    958\u001b[0m                              \u001b[1;34m\"AR term, MA term, a constant or an exogenous \"\u001b[0m\u001b[1;33m\u001b[0m\u001b[1;33m\u001b[0m\u001b[0m\n\u001b[0;32m    959\u001b[0m                              \"variable.\")\n",
      "\u001b[1;31mValueError\u001b[0m: Estimation requires the inclusion of least one AR term, MA term, a constant or an exogenous variable."
     ]
    }
   ],
   "source": [
    "# KT 자책 0,1,0\n",
    "erKT_model = ARIMA(er_KT.loc[:63, ['ER']], order=(0,1,0))\n",
    "erKT_model_fit = erKT_model.fit(trend='nc', full_output=True, disp=True)\n",
    "print(\"{}\\n\".format(erKT_model_fit.summary()))\n",
    "\n",
    "erKT_fore = erKT_model_fit.forecast(steps=1)\n",
    "print(erKT_fore)"
   ]
  },
  {
   "cell_type": "code",
   "execution_count": 16,
   "metadata": {},
   "outputs": [
    {
     "name": "stdout",
     "output_type": "stream",
     "text": [
      "                             ARIMA Model Results                              \n",
      "==============================================================================\n",
      "Dep. Variable:                   D.ER   No. Observations:                   63\n",
      "Model:                 ARIMA(1, 1, 0)   Log Likelihood                 -33.741\n",
      "Method:                       css-mle   S.D. of innovations              0.413\n",
      "Date:                Wed, 23 Sep 2020   AIC                             71.481\n",
      "Time:                        01:06:51   BIC                             75.767\n",
      "Sample:                             1   HQIC                            73.167\n",
      "                                                                              \n",
      "==============================================================================\n",
      "                 coef    std err          z      P>|z|      [0.025      0.975]\n",
      "------------------------------------------------------------------------------\n",
      "ar.L1.D.ER     0.3967      0.128      3.100      0.002       0.146       0.647\n",
      "                                    Roots                                    \n",
      "=============================================================================\n",
      "                  Real          Imaginary           Modulus         Frequency\n",
      "-----------------------------------------------------------------------------\n",
      "AR.1            2.5207           +0.0000j            2.5207            0.0000\n",
      "-----------------------------------------------------------------------------\n",
      "\n",
      "(array([4.76603506]), array([0.41282434]), array([[3.95691422, 5.5751559 ]]))\n"
     ]
    }
   ],
   "source": [
    "# LG 자책 1,1,0\n",
    "erLG_model = ARIMA(er_LG.loc[:63, ['ER']], order=(1,1,0))\n",
    "erLG_model_fit = erLG_model.fit(trend='nc', full_output=True, disp=True)\n",
    "print(\"{}\\n\".format(erLG_model_fit.summary()))\n",
    "\n",
    "erLG_fore = erLG_model_fit.forecast(steps=1)\n",
    "print(erLG_fore)"
   ]
  },
  {
   "cell_type": "code",
   "execution_count": 28,
   "metadata": {},
   "outputs": [
    {
     "name": "stdout",
     "output_type": "stream",
     "text": [
      "                              ARMA Model Results                              \n",
      "==============================================================================\n",
      "Dep. Variable:                     ER   No. Observations:                   62\n",
      "Model:                     ARMA(1, 0)   Log Likelihood                 -29.575\n",
      "Method:                       css-mle   S.D. of innovations              0.384\n",
      "Date:                Wed, 23 Sep 2020   AIC                             65.150\n",
      "Time:                        00:21:21   BIC                             71.531\n",
      "Sample:                             0   HQIC                            67.655\n",
      "                                                                              \n",
      "==============================================================================\n",
      "                 coef    std err          z      P>|z|      [0.025      0.975]\n",
      "------------------------------------------------------------------------------\n",
      "const          4.2757      0.520      8.216      0.000       3.256       5.296\n",
      "ar.L1.ER       0.9155      0.064     14.382      0.000       0.791       1.040\n",
      "                                    Roots                                    \n",
      "=============================================================================\n",
      "                  Real          Imaginary           Modulus         Frequency\n",
      "-----------------------------------------------------------------------------\n",
      "AR.1            1.0923           +0.0000j            1.0923            0.0000\n",
      "-----------------------------------------------------------------------------\n",
      "\n",
      "(array([5.04043883]), array([0.38419246]), array([[4.28743545, 5.79344221]]))\n"
     ]
    }
   ],
   "source": [
    "# 꼴떼 1,0,0\n",
    "erLT_model = ARIMA(er_LT.loc[:61, ['ER']], order=(1, 0, 0))\n",
    "erLT_model_fit = erLT_model.fit(trend='c', full_output=True, disp=True)\n",
    "print(\"{}\\n\".format(erLT_model_fit.summary()))\n",
    "\n",
    "erLT_fore = erLT_model_fit.forecast(steps=1)\n",
    "print(erLT_fore)"
   ]
  },
  {
   "cell_type": "code",
   "execution_count": 17,
   "metadata": {},
   "outputs": [
    {
     "name": "stdout",
     "output_type": "stream",
     "text": [
      "                             ARIMA Model Results                              \n",
      "==============================================================================\n",
      "Dep. Variable:                  D2.ER   No. Observations:                   61\n",
      "Model:                 ARIMA(0, 2, 1)   Log Likelihood                 -28.720\n",
      "Method:                       css-mle   S.D. of innovations              0.385\n",
      "Date:                Wed, 23 Sep 2020   AIC                             61.441\n",
      "Time:                        01:07:04   BIC                             65.663\n",
      "Sample:                             2   HQIC                            63.096\n",
      "                                                                              \n",
      "===============================================================================\n",
      "                  coef    std err          z      P>|z|      [0.025      0.975]\n",
      "-------------------------------------------------------------------------------\n",
      "ma.L1.D2.ER    -0.6827      0.128     -5.352      0.000      -0.933      -0.433\n",
      "                                    Roots                                    \n",
      "=============================================================================\n",
      "                  Real          Imaginary           Modulus         Frequency\n",
      "-----------------------------------------------------------------------------\n",
      "MA.1            1.4648           +0.0000j            1.4648            0.0000\n",
      "-----------------------------------------------------------------------------\n",
      "\n",
      "(array([3.58735129]), array([0.38548437]), array([[2.83181581, 4.34288678]]))\n"
     ]
    }
   ],
   "source": [
    "# NC 자책 0,2,1\n",
    "erNC_model = ARIMA(er_NC.loc[:62, ['ER']], order=(0, 2, 1))\n",
    "erNC_model_fit = erNC_model.fit(trend='nc', full_output=True, disp=True)\n",
    "print(\"{}\\n\".format(erNC_model_fit.summary()))\n",
    "\n",
    "erNC_fore = erNC_model_fit.forecast(steps=1)\n",
    "print(erNC_fore)"
   ]
  },
  {
   "cell_type": "code",
   "execution_count": 18,
   "metadata": {},
   "outputs": [
    {
     "name": "stdout",
     "output_type": "stream",
     "text": [
      "                             ARIMA Model Results                              \n",
      "==============================================================================\n",
      "Dep. Variable:                   D.ER   No. Observations:                   63\n",
      "Model:                 ARIMA(2, 1, 1)   Log Likelihood                 -42.798\n",
      "Method:                       css-mle   S.D. of innovations              0.468\n",
      "Date:                Wed, 23 Sep 2020   AIC                             93.595\n",
      "Time:                        01:07:14   BIC                            102.168\n",
      "Sample:                             1   HQIC                            96.967\n",
      "                                                                              \n",
      "==============================================================================\n",
      "                 coef    std err          z      P>|z|      [0.025      0.975]\n",
      "------------------------------------------------------------------------------\n",
      "ar.L1.D.ER     0.6796      0.168      4.038      0.000       0.350       1.010\n",
      "ar.L2.D.ER    -0.8092      0.119     -6.781      0.000      -1.043      -0.575\n",
      "ma.L1.D.ER    -0.5650      0.132     -4.283      0.000      -0.824      -0.306\n",
      "                                    Roots                                    \n",
      "=============================================================================\n",
      "                  Real          Imaginary           Modulus         Frequency\n",
      "-----------------------------------------------------------------------------\n",
      "AR.1            0.4199           -1.0293j            1.1116           -0.1883\n",
      "AR.2            0.4199           +1.0293j            1.1116            0.1883\n",
      "MA.1            1.7700           +0.0000j            1.7700            0.0000\n",
      "-----------------------------------------------------------------------------\n",
      "\n",
      "(array([5.04143025]), array([0.46831004]), array([[4.12355944, 5.95930106]]))\n"
     ]
    }
   ],
   "source": [
    "# 두산 2,1,1\n",
    "erOB_model = ARIMA(er_OB.loc[:63, ['ER']], order=(2, 1, 1))\n",
    "erOB_model_fit = erOB_model.fit(trend='nc', full_output=True, disp=True)\n",
    "print(\"{}\\n\".format(erOB_model_fit.summary()))\n",
    "\n",
    "erOB_fore = erOB_model_fit.forecast(steps=1)\n",
    "print(erOB_fore)"
   ]
  },
  {
   "cell_type": "code",
   "execution_count": 31,
   "metadata": {},
   "outputs": [
    {
     "name": "stdout",
     "output_type": "stream",
     "text": [
      "                              ARMA Model Results                              \n",
      "==============================================================================\n",
      "Dep. Variable:                     ER   No. Observations:                   65\n",
      "Model:                     ARMA(1, 1)   Log Likelihood                 -25.423\n",
      "Method:                       css-mle   S.D. of innovations              0.354\n",
      "Date:                Wed, 23 Sep 2020   AIC                             58.846\n",
      "Time:                        00:21:27   BIC                             67.543\n",
      "Sample:                             0   HQIC                            62.277\n",
      "                                                                              \n",
      "==============================================================================\n",
      "                 coef    std err          z      P>|z|      [0.025      0.975]\n",
      "------------------------------------------------------------------------------\n",
      "const          4.6382      0.229     20.288      0.000       4.190       5.086\n",
      "ar.L1.ER       0.7509      0.121      6.202      0.000       0.514       0.988\n",
      "ma.L1.ER       0.3453      0.214      1.615      0.106      -0.074       0.764\n",
      "                                    Roots                                    \n",
      "=============================================================================\n",
      "                  Real          Imaginary           Modulus         Frequency\n",
      "-----------------------------------------------------------------------------\n",
      "AR.1            1.3318           +0.0000j            1.3318            0.0000\n",
      "MA.1           -2.8961           +0.0000j            2.8961            0.5000\n",
      "-----------------------------------------------------------------------------\n",
      "\n",
      "(array([4.93491099]), array([0.3539057]), array([[4.24126858, 5.62855341]]))\n"
     ]
    }
   ],
   "source": [
    "# SK 1,0,1\n",
    "erSK_model = ARIMA(er_SK.loc[:64, ['ER']], order=(1, 0, 1))\n",
    "erSK_model_fit = erSK_model.fit(trend='c', full_output=True, disp=True)\n",
    "print(\"{}\\n\".format(erSK_model_fit.summary()))\n",
    "\n",
    "erSK_fore = erSK_model_fit.forecast(steps=1)\n",
    "print(erSK_fore)"
   ]
  },
  {
   "cell_type": "code",
   "execution_count": 32,
   "metadata": {},
   "outputs": [
    {
     "name": "stdout",
     "output_type": "stream",
     "text": [
      "                              ARMA Model Results                              \n",
      "==============================================================================\n",
      "Dep. Variable:                     ER   No. Observations:                   65\n",
      "Model:                     ARMA(1, 0)   Log Likelihood                 -17.993\n",
      "Method:                       css-mle   S.D. of innovations              0.317\n",
      "Date:                Wed, 23 Sep 2020   AIC                             41.987\n",
      "Time:                        00:21:31   BIC                             48.510\n",
      "Sample:                             0   HQIC                            44.561\n",
      "                                                                              \n",
      "==============================================================================\n",
      "                 coef    std err          z      P>|z|      [0.025      0.975]\n",
      "------------------------------------------------------------------------------\n",
      "const          4.2575      0.181     23.572      0.000       3.904       4.612\n",
      "ar.L1.ER       0.7944      0.072     11.009      0.000       0.653       0.936\n",
      "                                    Roots                                    \n",
      "=============================================================================\n",
      "                  Real          Imaginary           Modulus         Frequency\n",
      "-----------------------------------------------------------------------------\n",
      "AR.1            1.2589           +0.0000j            1.2589            0.0000\n",
      "-----------------------------------------------------------------------------\n",
      "\n",
      "(array([4.53831286]), array([0.31670436]), array([[3.91758372, 5.159042  ]]))\n"
     ]
    }
   ],
   "source": [
    "# 삼성 1,0,0\n",
    "erSS_model = ARIMA(er_SS.loc[:64, ['ER']], order=(1, 0, 0))\n",
    "erSS_model_fit = erSS_model.fit(trend='c', full_output=True, disp=True)\n",
    "print(\"{}\\n\".format(erSS_model_fit.summary()))\n",
    "\n",
    "erSS_fore = erSS_model_fit.forecast(steps=1)\n",
    "print(erSS_fore)"
   ]
  },
  {
   "cell_type": "code",
   "execution_count": 19,
   "metadata": {},
   "outputs": [
    {
     "name": "stdout",
     "output_type": "stream",
     "text": [
      "                             ARIMA Model Results                              \n",
      "==============================================================================\n",
      "Dep. Variable:                   D.ER   No. Observations:                   65\n",
      "Model:                 ARIMA(0, 1, 1)   Log Likelihood                 -29.184\n",
      "Method:                       css-mle   S.D. of innovations              0.379\n",
      "Date:                Wed, 23 Sep 2020   AIC                             62.368\n",
      "Time:                        01:07:59   BIC                             66.717\n",
      "Sample:                             1   HQIC                            64.084\n",
      "                                                                              \n",
      "==============================================================================\n",
      "                 coef    std err          z      P>|z|      [0.025      0.975]\n",
      "------------------------------------------------------------------------------\n",
      "ma.L1.D.ER     0.3768      0.127      2.968      0.003       0.128       0.626\n",
      "                                    Roots                                    \n",
      "=============================================================================\n",
      "                  Real          Imaginary           Modulus         Frequency\n",
      "-----------------------------------------------------------------------------\n",
      "MA.1           -2.6536           +0.0000j            2.6536            0.5000\n",
      "-----------------------------------------------------------------------------\n",
      "\n",
      "(array([6.58184629]), array([0.37865538]), array([[5.83969537, 7.32399721]]))\n"
     ]
    }
   ],
   "source": [
    "# 키움 0,1,1\n",
    "erWO_model = ARIMA(er_WO.loc[:65, ['ER']], order=(0, 1, 1))\n",
    "erWO_model_fit = erWO_model.fit(trend='nc', full_output=True, disp=True)\n",
    "print(\"{}\\n\".format(erWO_model_fit.summary()))\n",
    "\n",
    "erWO_fore = erWO_model_fit.forecast(steps=1)\n",
    "print(erWO_fore)"
   ]
  },
  {
   "cell_type": "markdown",
   "metadata": {},
   "source": [
    "## WLS\n",
    "\n",
    "--WLS-- <br>\n",
    "한화 0,1,0 <br>\n",
    "기아 0,1,1 <br>\n",
    "KT 0,1,0 <br>\n",
    "엘지 2,0,0 <br>\n",
    "롯데 0,1,0 <br>\n",
    "NC 0,1,0 <br>\n",
    "두산 0,0,1 <br>\n",
    "SK 0,1,1 <br>\n",
    "삼성 2,1,0 <br>\n",
    "키움 0,1,1 <br>\n"
   ]
  },
  {
   "cell_type": "code",
   "execution_count": 20,
   "metadata": {},
   "outputs": [
    {
     "ename": "ValueError",
     "evalue": "Estimation requires the inclusion of least one AR term, MA term, a constant or an exogenous variable.",
     "output_type": "error",
     "traceback": [
      "\u001b[1;31m---------------------------------------------------------------------------\u001b[0m",
      "\u001b[1;31mValueError\u001b[0m                                Traceback (most recent call last)",
      "\u001b[1;32m<ipython-input-20-231822b89022>\u001b[0m in \u001b[0;36m<module>\u001b[1;34m\u001b[0m\n\u001b[0;32m      1\u001b[0m \u001b[1;31m# 한화 승률 0,1,0\u001b[0m\u001b[1;33m\u001b[0m\u001b[1;33m\u001b[0m\u001b[1;33m\u001b[0m\u001b[0m\n\u001b[0;32m      2\u001b[0m \u001b[0mwlsHH_model\u001b[0m \u001b[1;33m=\u001b[0m \u001b[0mARIMA\u001b[0m\u001b[1;33m(\u001b[0m\u001b[0mwls_HH\u001b[0m\u001b[1;33m.\u001b[0m\u001b[0mloc\u001b[0m\u001b[1;33m[\u001b[0m\u001b[1;33m:\u001b[0m\u001b[1;36m64\u001b[0m\u001b[1;33m,\u001b[0m \u001b[1;33m[\u001b[0m\u001b[1;34m'WLS'\u001b[0m\u001b[1;33m]\u001b[0m\u001b[1;33m]\u001b[0m\u001b[1;33m,\u001b[0m \u001b[0morder\u001b[0m\u001b[1;33m=\u001b[0m\u001b[1;33m(\u001b[0m\u001b[1;36m0\u001b[0m\u001b[1;33m,\u001b[0m \u001b[1;36m1\u001b[0m\u001b[1;33m,\u001b[0m \u001b[1;36m0\u001b[0m\u001b[1;33m)\u001b[0m\u001b[1;33m)\u001b[0m\u001b[1;33m\u001b[0m\u001b[1;33m\u001b[0m\u001b[0m\n\u001b[1;32m----> 3\u001b[1;33m \u001b[0mwlsHH_model_fit\u001b[0m \u001b[1;33m=\u001b[0m \u001b[0mwlsHH_model\u001b[0m\u001b[1;33m.\u001b[0m\u001b[0mfit\u001b[0m\u001b[1;33m(\u001b[0m\u001b[0mtrend\u001b[0m\u001b[1;33m=\u001b[0m\u001b[1;34m'nc'\u001b[0m\u001b[1;33m,\u001b[0m \u001b[0mfull_output\u001b[0m\u001b[1;33m=\u001b[0m\u001b[1;32mTrue\u001b[0m\u001b[1;33m,\u001b[0m \u001b[0mdisp\u001b[0m\u001b[1;33m=\u001b[0m\u001b[1;32mTrue\u001b[0m\u001b[1;33m)\u001b[0m\u001b[1;33m\u001b[0m\u001b[1;33m\u001b[0m\u001b[0m\n\u001b[0m\u001b[0;32m      4\u001b[0m \u001b[0mprint\u001b[0m\u001b[1;33m(\u001b[0m\u001b[1;34m\"{}\\n\"\u001b[0m\u001b[1;33m.\u001b[0m\u001b[0mformat\u001b[0m\u001b[1;33m(\u001b[0m\u001b[0mwlsHH_model_fit\u001b[0m\u001b[1;33m.\u001b[0m\u001b[0msummary\u001b[0m\u001b[1;33m(\u001b[0m\u001b[1;33m)\u001b[0m\u001b[1;33m)\u001b[0m\u001b[1;33m)\u001b[0m\u001b[1;33m\u001b[0m\u001b[1;33m\u001b[0m\u001b[0m\n\u001b[0;32m      5\u001b[0m \u001b[1;33m\u001b[0m\u001b[0m\n",
      "\u001b[1;32m~\\Anaconda3\\lib\\site-packages\\statsmodels\\tsa\\arima_model.py\u001b[0m in \u001b[0;36mfit\u001b[1;34m(self, start_params, trend, method, transparams, solver, maxiter, full_output, disp, callback, start_ar_lags, **kwargs)\u001b[0m\n\u001b[0;32m   1198\u001b[0m                                         \u001b[0mmethod\u001b[0m\u001b[1;33m,\u001b[0m \u001b[0mtransparams\u001b[0m\u001b[1;33m,\u001b[0m \u001b[0msolver\u001b[0m\u001b[1;33m,\u001b[0m\u001b[1;33m\u001b[0m\u001b[1;33m\u001b[0m\u001b[0m\n\u001b[0;32m   1199\u001b[0m                                         \u001b[0mmaxiter\u001b[0m\u001b[1;33m,\u001b[0m \u001b[0mfull_output\u001b[0m\u001b[1;33m,\u001b[0m \u001b[0mdisp\u001b[0m\u001b[1;33m,\u001b[0m\u001b[1;33m\u001b[0m\u001b[1;33m\u001b[0m\u001b[0m\n\u001b[1;32m-> 1200\u001b[1;33m                                         callback, start_ar_lags, **kwargs)\n\u001b[0m\u001b[0;32m   1201\u001b[0m         \u001b[0mnormalized_cov_params\u001b[0m \u001b[1;33m=\u001b[0m \u001b[1;32mNone\u001b[0m  \u001b[1;31m# TODO: fix this?\u001b[0m\u001b[1;33m\u001b[0m\u001b[1;33m\u001b[0m\u001b[0m\n\u001b[0;32m   1202\u001b[0m         arima_fit = ARIMAResults(self, mlefit._results.params,\n",
      "\u001b[1;32m~\\Anaconda3\\lib\\site-packages\\statsmodels\\tsa\\arima_model.py\u001b[0m in \u001b[0;36mfit\u001b[1;34m(self, start_params, trend, method, transparams, solver, maxiter, full_output, disp, callback, start_ar_lags, **kwargs)\u001b[0m\n\u001b[0;32m    955\u001b[0m         \u001b[1;31m# Check has something to estimate\u001b[0m\u001b[1;33m\u001b[0m\u001b[1;33m\u001b[0m\u001b[1;33m\u001b[0m\u001b[0m\n\u001b[0;32m    956\u001b[0m         \u001b[1;32mif\u001b[0m \u001b[0mk_ar\u001b[0m \u001b[1;33m==\u001b[0m \u001b[1;36m0\u001b[0m \u001b[1;32mand\u001b[0m \u001b[0mk_ma\u001b[0m \u001b[1;33m==\u001b[0m \u001b[1;36m0\u001b[0m \u001b[1;32mand\u001b[0m \u001b[0mk_trend\u001b[0m \u001b[1;33m==\u001b[0m \u001b[1;36m0\u001b[0m \u001b[1;32mand\u001b[0m \u001b[0mk_exog\u001b[0m \u001b[1;33m==\u001b[0m \u001b[1;36m0\u001b[0m\u001b[1;33m:\u001b[0m\u001b[1;33m\u001b[0m\u001b[1;33m\u001b[0m\u001b[0m\n\u001b[1;32m--> 957\u001b[1;33m             raise ValueError(\"Estimation requires the inclusion of least one \"\n\u001b[0m\u001b[0;32m    958\u001b[0m                              \u001b[1;34m\"AR term, MA term, a constant or an exogenous \"\u001b[0m\u001b[1;33m\u001b[0m\u001b[1;33m\u001b[0m\u001b[0m\n\u001b[0;32m    959\u001b[0m                              \"variable.\")\n",
      "\u001b[1;31mValueError\u001b[0m: Estimation requires the inclusion of least one AR term, MA term, a constant or an exogenous variable."
     ]
    }
   ],
   "source": [
    "# 한화 승률 0,1,0\n",
    "wlsHH_model = ARIMA(wls_HH.loc[:64, ['WLS']], order=(0, 1, 0))\n",
    "wlsHH_model_fit = wlsHH_model.fit(trend='nc', full_output=True, disp=True)\n",
    "print(\"{}\\n\".format(wlsHH_model_fit.summary()))\n",
    "\n",
    "wlsHH_fore = wlsHH_model_fit.forecast(steps=1)\n",
    "print(wlsHH_fore)"
   ]
  },
  {
   "cell_type": "code",
   "execution_count": 21,
   "metadata": {},
   "outputs": [
    {
     "name": "stdout",
     "output_type": "stream",
     "text": [
      "                             ARIMA Model Results                              \n",
      "==============================================================================\n",
      "Dep. Variable:                  D.WLS   No. Observations:                   61\n",
      "Model:                 ARIMA(0, 1, 1)   Log Likelihood                  90.532\n",
      "Method:                       css-mle   S.D. of innovations              0.055\n",
      "Date:                Wed, 23 Sep 2020   AIC                           -177.064\n",
      "Time:                        01:08:14   BIC                           -172.842\n",
      "Sample:                             1   HQIC                          -175.409\n",
      "                                                                              \n",
      "===============================================================================\n",
      "                  coef    std err          z      P>|z|      [0.025      0.975]\n",
      "-------------------------------------------------------------------------------\n",
      "ma.L1.D.WLS    -0.1600      0.127     -1.255      0.209      -0.410       0.090\n",
      "                                    Roots                                    \n",
      "=============================================================================\n",
      "                  Real          Imaginary           Modulus         Frequency\n",
      "-----------------------------------------------------------------------------\n",
      "MA.1            6.2502           +0.0000j            6.2502            0.0000\n",
      "-----------------------------------------------------------------------------\n",
      "\n",
      "(array([0.42743279]), array([0.05484307]), array([[0.31994235, 0.53492324]]))\n"
     ]
    }
   ],
   "source": [
    "wlsHT_model = ARIMA(wls_HT.loc[:61, ['WLS']], order=(0, 1, 1))\n",
    "wlsHT_model_fit = wlsHT_model.fit(trend='nc', full_output=True, disp=True)\n",
    "print(\"{}\\n\".format(wlsHT_model_fit.summary()))\n",
    "\n",
    "wlsHT_fore = wlsHT_model_fit.forecast(steps=1)\n",
    "print(wlsHT_fore)"
   ]
  },
  {
   "cell_type": "code",
   "execution_count": 22,
   "metadata": {},
   "outputs": [
    {
     "ename": "ValueError",
     "evalue": "Estimation requires the inclusion of least one AR term, MA term, a constant or an exogenous variable.",
     "output_type": "error",
     "traceback": [
      "\u001b[1;31m---------------------------------------------------------------------------\u001b[0m",
      "\u001b[1;31mValueError\u001b[0m                                Traceback (most recent call last)",
      "\u001b[1;32m<ipython-input-22-b261bb5179d8>\u001b[0m in \u001b[0;36m<module>\u001b[1;34m\u001b[0m\n\u001b[0;32m      1\u001b[0m \u001b[0mwlsKT_model\u001b[0m \u001b[1;33m=\u001b[0m \u001b[0mARIMA\u001b[0m\u001b[1;33m(\u001b[0m\u001b[0mwls_KT\u001b[0m\u001b[1;33m.\u001b[0m\u001b[0mloc\u001b[0m\u001b[1;33m[\u001b[0m\u001b[1;33m:\u001b[0m\u001b[1;36m63\u001b[0m\u001b[1;33m,\u001b[0m \u001b[1;33m[\u001b[0m\u001b[1;34m'WLS'\u001b[0m\u001b[1;33m]\u001b[0m\u001b[1;33m]\u001b[0m\u001b[1;33m,\u001b[0m \u001b[0morder\u001b[0m\u001b[1;33m=\u001b[0m\u001b[1;33m(\u001b[0m\u001b[1;36m0\u001b[0m\u001b[1;33m,\u001b[0m \u001b[1;36m1\u001b[0m\u001b[1;33m,\u001b[0m \u001b[1;36m0\u001b[0m\u001b[1;33m)\u001b[0m\u001b[1;33m)\u001b[0m\u001b[1;33m\u001b[0m\u001b[1;33m\u001b[0m\u001b[0m\n\u001b[1;32m----> 2\u001b[1;33m \u001b[0mwlsKT_model_fit\u001b[0m \u001b[1;33m=\u001b[0m \u001b[0mwlsKT_model\u001b[0m\u001b[1;33m.\u001b[0m\u001b[0mfit\u001b[0m\u001b[1;33m(\u001b[0m\u001b[0mtrend\u001b[0m\u001b[1;33m=\u001b[0m\u001b[1;34m'nc'\u001b[0m\u001b[1;33m,\u001b[0m \u001b[0mfull_output\u001b[0m\u001b[1;33m=\u001b[0m\u001b[1;32mTrue\u001b[0m\u001b[1;33m,\u001b[0m \u001b[0mdisp\u001b[0m\u001b[1;33m=\u001b[0m\u001b[1;32mTrue\u001b[0m\u001b[1;33m)\u001b[0m\u001b[1;33m\u001b[0m\u001b[1;33m\u001b[0m\u001b[0m\n\u001b[0m\u001b[0;32m      3\u001b[0m \u001b[0mprint\u001b[0m\u001b[1;33m(\u001b[0m\u001b[1;34m\"{}\\n\"\u001b[0m\u001b[1;33m.\u001b[0m\u001b[0mformat\u001b[0m\u001b[1;33m(\u001b[0m\u001b[0mwlsKT_model_fit\u001b[0m\u001b[1;33m.\u001b[0m\u001b[0msummary\u001b[0m\u001b[1;33m(\u001b[0m\u001b[1;33m)\u001b[0m\u001b[1;33m)\u001b[0m\u001b[1;33m)\u001b[0m\u001b[1;33m\u001b[0m\u001b[1;33m\u001b[0m\u001b[0m\n\u001b[0;32m      4\u001b[0m \u001b[1;33m\u001b[0m\u001b[0m\n\u001b[0;32m      5\u001b[0m \u001b[0mwlsKT_fore\u001b[0m \u001b[1;33m=\u001b[0m \u001b[0mwlsKT_model_fit\u001b[0m\u001b[1;33m.\u001b[0m\u001b[0mforecast\u001b[0m\u001b[1;33m(\u001b[0m\u001b[0msteps\u001b[0m\u001b[1;33m=\u001b[0m\u001b[1;36m1\u001b[0m\u001b[1;33m)\u001b[0m\u001b[1;33m\u001b[0m\u001b[1;33m\u001b[0m\u001b[0m\n",
      "\u001b[1;32m~\\Anaconda3\\lib\\site-packages\\statsmodels\\tsa\\arima_model.py\u001b[0m in \u001b[0;36mfit\u001b[1;34m(self, start_params, trend, method, transparams, solver, maxiter, full_output, disp, callback, start_ar_lags, **kwargs)\u001b[0m\n\u001b[0;32m   1198\u001b[0m                                         \u001b[0mmethod\u001b[0m\u001b[1;33m,\u001b[0m \u001b[0mtransparams\u001b[0m\u001b[1;33m,\u001b[0m \u001b[0msolver\u001b[0m\u001b[1;33m,\u001b[0m\u001b[1;33m\u001b[0m\u001b[1;33m\u001b[0m\u001b[0m\n\u001b[0;32m   1199\u001b[0m                                         \u001b[0mmaxiter\u001b[0m\u001b[1;33m,\u001b[0m \u001b[0mfull_output\u001b[0m\u001b[1;33m,\u001b[0m \u001b[0mdisp\u001b[0m\u001b[1;33m,\u001b[0m\u001b[1;33m\u001b[0m\u001b[1;33m\u001b[0m\u001b[0m\n\u001b[1;32m-> 1200\u001b[1;33m                                         callback, start_ar_lags, **kwargs)\n\u001b[0m\u001b[0;32m   1201\u001b[0m         \u001b[0mnormalized_cov_params\u001b[0m \u001b[1;33m=\u001b[0m \u001b[1;32mNone\u001b[0m  \u001b[1;31m# TODO: fix this?\u001b[0m\u001b[1;33m\u001b[0m\u001b[1;33m\u001b[0m\u001b[0m\n\u001b[0;32m   1202\u001b[0m         arima_fit = ARIMAResults(self, mlefit._results.params,\n",
      "\u001b[1;32m~\\Anaconda3\\lib\\site-packages\\statsmodels\\tsa\\arima_model.py\u001b[0m in \u001b[0;36mfit\u001b[1;34m(self, start_params, trend, method, transparams, solver, maxiter, full_output, disp, callback, start_ar_lags, **kwargs)\u001b[0m\n\u001b[0;32m    955\u001b[0m         \u001b[1;31m# Check has something to estimate\u001b[0m\u001b[1;33m\u001b[0m\u001b[1;33m\u001b[0m\u001b[1;33m\u001b[0m\u001b[0m\n\u001b[0;32m    956\u001b[0m         \u001b[1;32mif\u001b[0m \u001b[0mk_ar\u001b[0m \u001b[1;33m==\u001b[0m \u001b[1;36m0\u001b[0m \u001b[1;32mand\u001b[0m \u001b[0mk_ma\u001b[0m \u001b[1;33m==\u001b[0m \u001b[1;36m0\u001b[0m \u001b[1;32mand\u001b[0m \u001b[0mk_trend\u001b[0m \u001b[1;33m==\u001b[0m \u001b[1;36m0\u001b[0m \u001b[1;32mand\u001b[0m \u001b[0mk_exog\u001b[0m \u001b[1;33m==\u001b[0m \u001b[1;36m0\u001b[0m\u001b[1;33m:\u001b[0m\u001b[1;33m\u001b[0m\u001b[1;33m\u001b[0m\u001b[0m\n\u001b[1;32m--> 957\u001b[1;33m             raise ValueError(\"Estimation requires the inclusion of least one \"\n\u001b[0m\u001b[0;32m    958\u001b[0m                              \u001b[1;34m\"AR term, MA term, a constant or an exogenous \"\u001b[0m\u001b[1;33m\u001b[0m\u001b[1;33m\u001b[0m\u001b[0m\n\u001b[0;32m    959\u001b[0m                              \"variable.\")\n",
      "\u001b[1;31mValueError\u001b[0m: Estimation requires the inclusion of least one AR term, MA term, a constant or an exogenous variable."
     ]
    }
   ],
   "source": [
    "wlsKT_model = ARIMA(wls_KT.loc[:63, ['WLS']], order=(0, 1, 0))\n",
    "wlsKT_model_fit = wlsKT_model.fit(trend='nc', full_output=True, disp=True)\n",
    "print(\"{}\\n\".format(wlsKT_model_fit.summary()))\n",
    "\n",
    "wlsKT_fore = wlsKT_model_fit.forecast(steps=1)\n",
    "print(wlsKT_fore)"
   ]
  },
  {
   "cell_type": "code",
   "execution_count": 37,
   "metadata": {},
   "outputs": [
    {
     "name": "stdout",
     "output_type": "stream",
     "text": [
      "                              ARMA Model Results                              \n",
      "==============================================================================\n",
      "Dep. Variable:                    WLS   No. Observations:                   64\n",
      "Model:                     ARMA(2, 0)   Log Likelihood                  83.576\n",
      "Method:                       css-mle   S.D. of innovations              0.064\n",
      "Date:                Wed, 23 Sep 2020   AIC                           -159.152\n",
      "Time:                        00:21:55   BIC                           -150.516\n",
      "Sample:                             0   HQIC                          -155.750\n",
      "                                                                              \n",
      "==============================================================================\n",
      "                 coef    std err          z      P>|z|      [0.025      0.975]\n",
      "------------------------------------------------------------------------------\n",
      "const          0.6190      0.021     28.915      0.000       0.577       0.661\n",
      "ar.L1.WLS      1.4392      0.122     11.806      0.000       1.200       1.678\n",
      "ar.L2.WLS     -0.8225      0.112     -7.315      0.000      -1.043      -0.602\n",
      "                                    Roots                                    \n",
      "=============================================================================\n",
      "                  Real          Imaginary           Modulus         Frequency\n",
      "-----------------------------------------------------------------------------\n",
      "AR.1            0.8748           -0.6711j            1.1026           -0.1041\n",
      "AR.2            0.8748           +0.6711j            1.1026            0.1041\n",
      "-----------------------------------------------------------------------------\n",
      "\n",
      "(array([0.59864558]), array([0.06392278]), array([[0.47335923, 0.72393193]]))\n"
     ]
    }
   ],
   "source": [
    "wlsLG_model = ARIMA(wls_LG.loc[:63, ['WLS']], order=(2, 0, 0))\n",
    "wlsLG_model_fit = wlsLG_model.fit(trend='c', full_output=True, disp=True)\n",
    "print(\"{}\\n\".format(wlsLG_model_fit.summary()))\n",
    "\n",
    "wlsLG_fore = wlsLG_model_fit.forecast(steps=1)\n",
    "print(wlsLG_fore)\n"
   ]
  },
  {
   "cell_type": "code",
   "execution_count": 38,
   "metadata": {},
   "outputs": [
    {
     "name": "stdout",
     "output_type": "stream",
     "text": [
      "                             ARIMA Model Results                              \n",
      "==============================================================================\n",
      "Dep. Variable:                  D.WLS   No. Observations:                   61\n",
      "Model:                 ARIMA(0, 1, 0)   Log Likelihood                  73.079\n",
      "Method:                           css   S.D. of innovations              0.073\n",
      "Date:                Wed, 23 Sep 2020   AIC                           -142.158\n",
      "Time:                        00:21:57   BIC                           -137.936\n",
      "Sample:                             1   HQIC                          -140.504\n",
      "                                                                              \n",
      "==============================================================================\n",
      "                 coef    std err          z      P>|z|      [0.025      0.975]\n",
      "------------------------------------------------------------------------------\n",
      "const         -0.0084      0.009     -0.896      0.370      -0.027       0.010\n",
      "==============================================================================\n",
      "\n",
      "(array([0.48062295]), array([0.07302485]), array([[0.33749688, 0.62374902]]))\n"
     ]
    }
   ],
   "source": [
    "wlsLT_model = ARIMA(wls_LT.loc[:61, ['WLS']], order=(0, 1, 0))\n",
    "wlsLT_model_fit = wlsLT_model.fit(trend='c', full_output=True, disp=True)\n",
    "print(\"{}\\n\".format(wlsLT_model_fit.summary()))\n",
    "\n",
    "wlsLT_fore = wlsLT_model_fit.forecast(steps=1)\n",
    "print(wlsLT_fore)"
   ]
  },
  {
   "cell_type": "code",
   "execution_count": 38,
   "metadata": {},
   "outputs": [
    {
     "ename": "ValueError",
     "evalue": "Estimation requires the inclusion of least one AR term, MA term, a constant or an exogenous variable.",
     "output_type": "error",
     "traceback": [
      "\u001b[1;31m---------------------------------------------------------------------------\u001b[0m",
      "\u001b[1;31mValueError\u001b[0m                                Traceback (most recent call last)",
      "\u001b[1;32m<ipython-input-38-f0095568c91a>\u001b[0m in \u001b[0;36m<module>\u001b[1;34m\u001b[0m\n\u001b[0;32m      1\u001b[0m \u001b[0mwlsNC_model\u001b[0m \u001b[1;33m=\u001b[0m \u001b[0mARIMA\u001b[0m\u001b[1;33m(\u001b[0m\u001b[0mwls_NC\u001b[0m\u001b[1;33m.\u001b[0m\u001b[0mloc\u001b[0m\u001b[1;33m[\u001b[0m\u001b[1;33m:\u001b[0m\u001b[1;36m62\u001b[0m\u001b[1;33m,\u001b[0m \u001b[1;33m[\u001b[0m\u001b[1;34m'WLS'\u001b[0m\u001b[1;33m]\u001b[0m\u001b[1;33m]\u001b[0m\u001b[1;33m,\u001b[0m \u001b[0morder\u001b[0m\u001b[1;33m=\u001b[0m\u001b[1;33m(\u001b[0m\u001b[1;36m0\u001b[0m\u001b[1;33m,\u001b[0m \u001b[1;36m1\u001b[0m\u001b[1;33m,\u001b[0m \u001b[1;36m0\u001b[0m\u001b[1;33m)\u001b[0m\u001b[1;33m)\u001b[0m\u001b[1;33m\u001b[0m\u001b[1;33m\u001b[0m\u001b[0m\n\u001b[1;32m----> 2\u001b[1;33m \u001b[0mwlsNC_model_fit\u001b[0m \u001b[1;33m=\u001b[0m \u001b[0mwlsNC_model\u001b[0m\u001b[1;33m.\u001b[0m\u001b[0mfit\u001b[0m\u001b[1;33m(\u001b[0m\u001b[0mtrend\u001b[0m\u001b[1;33m=\u001b[0m\u001b[1;34m'nc'\u001b[0m\u001b[1;33m,\u001b[0m \u001b[0mfull_output\u001b[0m\u001b[1;33m=\u001b[0m\u001b[1;32mTrue\u001b[0m\u001b[1;33m,\u001b[0m \u001b[0mdisp\u001b[0m\u001b[1;33m=\u001b[0m\u001b[1;32mTrue\u001b[0m\u001b[1;33m)\u001b[0m\u001b[1;33m\u001b[0m\u001b[1;33m\u001b[0m\u001b[0m\n\u001b[0m\u001b[0;32m      3\u001b[0m \u001b[0mprint\u001b[0m\u001b[1;33m(\u001b[0m\u001b[1;34m\"{}\\n\"\u001b[0m\u001b[1;33m.\u001b[0m\u001b[0mformat\u001b[0m\u001b[1;33m(\u001b[0m\u001b[0mwlsNC_model_fit\u001b[0m\u001b[1;33m.\u001b[0m\u001b[0msummary\u001b[0m\u001b[1;33m(\u001b[0m\u001b[1;33m)\u001b[0m\u001b[1;33m)\u001b[0m\u001b[1;33m)\u001b[0m\u001b[1;33m\u001b[0m\u001b[1;33m\u001b[0m\u001b[0m\n\u001b[0;32m      4\u001b[0m \u001b[1;33m\u001b[0m\u001b[0m\n\u001b[0;32m      5\u001b[0m \u001b[0mwlsNC_fore\u001b[0m \u001b[1;33m=\u001b[0m \u001b[0mwlsNC_model_fit\u001b[0m\u001b[1;33m.\u001b[0m\u001b[0mforecast\u001b[0m\u001b[1;33m(\u001b[0m\u001b[0msteps\u001b[0m\u001b[1;33m=\u001b[0m\u001b[1;36m1\u001b[0m\u001b[1;33m)\u001b[0m\u001b[1;33m\u001b[0m\u001b[1;33m\u001b[0m\u001b[0m\n",
      "\u001b[1;32m~\\Anaconda3\\lib\\site-packages\\statsmodels\\tsa\\arima_model.py\u001b[0m in \u001b[0;36mfit\u001b[1;34m(self, start_params, trend, method, transparams, solver, maxiter, full_output, disp, callback, start_ar_lags, **kwargs)\u001b[0m\n\u001b[0;32m   1198\u001b[0m                                         \u001b[0mmethod\u001b[0m\u001b[1;33m,\u001b[0m \u001b[0mtransparams\u001b[0m\u001b[1;33m,\u001b[0m \u001b[0msolver\u001b[0m\u001b[1;33m,\u001b[0m\u001b[1;33m\u001b[0m\u001b[1;33m\u001b[0m\u001b[0m\n\u001b[0;32m   1199\u001b[0m                                         \u001b[0mmaxiter\u001b[0m\u001b[1;33m,\u001b[0m \u001b[0mfull_output\u001b[0m\u001b[1;33m,\u001b[0m \u001b[0mdisp\u001b[0m\u001b[1;33m,\u001b[0m\u001b[1;33m\u001b[0m\u001b[1;33m\u001b[0m\u001b[0m\n\u001b[1;32m-> 1200\u001b[1;33m                                         callback, start_ar_lags, **kwargs)\n\u001b[0m\u001b[0;32m   1201\u001b[0m         \u001b[0mnormalized_cov_params\u001b[0m \u001b[1;33m=\u001b[0m \u001b[1;32mNone\u001b[0m  \u001b[1;31m# TODO: fix this?\u001b[0m\u001b[1;33m\u001b[0m\u001b[1;33m\u001b[0m\u001b[0m\n\u001b[0;32m   1202\u001b[0m         arima_fit = ARIMAResults(self, mlefit._results.params,\n",
      "\u001b[1;32m~\\Anaconda3\\lib\\site-packages\\statsmodels\\tsa\\arima_model.py\u001b[0m in \u001b[0;36mfit\u001b[1;34m(self, start_params, trend, method, transparams, solver, maxiter, full_output, disp, callback, start_ar_lags, **kwargs)\u001b[0m\n\u001b[0;32m    955\u001b[0m         \u001b[1;31m# Check has something to estimate\u001b[0m\u001b[1;33m\u001b[0m\u001b[1;33m\u001b[0m\u001b[1;33m\u001b[0m\u001b[0m\n\u001b[0;32m    956\u001b[0m         \u001b[1;32mif\u001b[0m \u001b[0mk_ar\u001b[0m \u001b[1;33m==\u001b[0m \u001b[1;36m0\u001b[0m \u001b[1;32mand\u001b[0m \u001b[0mk_ma\u001b[0m \u001b[1;33m==\u001b[0m \u001b[1;36m0\u001b[0m \u001b[1;32mand\u001b[0m \u001b[0mk_trend\u001b[0m \u001b[1;33m==\u001b[0m \u001b[1;36m0\u001b[0m \u001b[1;32mand\u001b[0m \u001b[0mk_exog\u001b[0m \u001b[1;33m==\u001b[0m \u001b[1;36m0\u001b[0m\u001b[1;33m:\u001b[0m\u001b[1;33m\u001b[0m\u001b[1;33m\u001b[0m\u001b[0m\n\u001b[1;32m--> 957\u001b[1;33m             raise ValueError(\"Estimation requires the inclusion of least one \"\n\u001b[0m\u001b[0;32m    958\u001b[0m                              \u001b[1;34m\"AR term, MA term, a constant or an exogenous \"\u001b[0m\u001b[1;33m\u001b[0m\u001b[1;33m\u001b[0m\u001b[0m\n\u001b[0;32m    959\u001b[0m                              \"variable.\")\n",
      "\u001b[1;31mValueError\u001b[0m: Estimation requires the inclusion of least one AR term, MA term, a constant or an exogenous variable."
     ]
    }
   ],
   "source": [
    "wlsNC_model = ARIMA(wls_NC.loc[:62, ['WLS']], order=(0, 1, 0))\n",
    "wlsNC_model_fit = wlsNC_model.fit(trend='nc', full_output=True, disp=True)\n",
    "print(\"{}\\n\".format(wlsNC_model_fit.summary()))\n",
    "\n",
    "wlsNC_fore = wlsNC_model_fit.forecast(steps=1)\n",
    "print(wlsNC_fore)"
   ]
  },
  {
   "cell_type": "code",
   "execution_count": 24,
   "metadata": {},
   "outputs": [
    {
     "name": "stdout",
     "output_type": "stream",
     "text": [
      "                              ARMA Model Results                              \n",
      "==============================================================================\n",
      "Dep. Variable:                    WLS   No. Observations:                   64\n",
      "Model:                     ARMA(0, 1)   Log Likelihood                  69.833\n",
      "Method:                       css-mle   S.D. of innovations              0.081\n",
      "Date:                Wed, 23 Sep 2020   AIC                           -133.667\n",
      "Time:                        01:08:46   BIC                           -127.190\n",
      "Sample:                             0   HQIC                          -131.115\n",
      "                                                                              \n",
      "==============================================================================\n",
      "                 coef    std err          z      P>|z|      [0.025      0.975]\n",
      "------------------------------------------------------------------------------\n",
      "const          0.5935      0.016     37.669      0.000       0.563       0.624\n",
      "ma.L1.WLS      0.5618      0.149      3.760      0.000       0.269       0.855\n",
      "                                    Roots                                    \n",
      "=============================================================================\n",
      "                  Real          Imaginary           Modulus         Frequency\n",
      "-----------------------------------------------------------------------------\n",
      "MA.1           -1.7799           +0.0000j            1.7799            0.5000\n",
      "-----------------------------------------------------------------------------\n",
      "\n",
      "(array([0.59045501]), array([0.08102096]), array([[0.43165684, 0.74925318]]))\n"
     ]
    }
   ],
   "source": [
    "wlsOB_model = ARIMA(wls_OB.loc[:63, ['WLS']], order=(0, 0, 1))\n",
    "wlsOB_model_fit = wlsOB_model.fit(trend='c', full_output=True, disp=True)\n",
    "print(\"{}\\n\".format(wlsOB_model_fit.summary()))\n",
    "\n",
    "wlsOB_fore = wlsOB_model_fit.forecast(steps=1)\n",
    "print(wlsOB_fore)"
   ]
  },
  {
   "cell_type": "code",
   "execution_count": 25,
   "metadata": {},
   "outputs": [
    {
     "name": "stdout",
     "output_type": "stream",
     "text": [
      "                             ARIMA Model Results                              \n",
      "==============================================================================\n",
      "Dep. Variable:                  D.WLS   No. Observations:                   64\n",
      "Model:                 ARIMA(0, 1, 1)   Log Likelihood                  70.685\n",
      "Method:                       css-mle   S.D. of innovations              0.080\n",
      "Date:                Wed, 23 Sep 2020   AIC                           -137.371\n",
      "Time:                        01:08:52   BIC                           -133.053\n",
      "Sample:                             1   HQIC                          -135.670\n",
      "                                                                              \n",
      "===============================================================================\n",
      "                  coef    std err          z      P>|z|      [0.025      0.975]\n",
      "-------------------------------------------------------------------------------\n",
      "ma.L1.D.WLS    -0.4881      0.131     -3.729      0.000      -0.745      -0.232\n",
      "                                    Roots                                    \n",
      "=============================================================================\n",
      "                  Real          Imaginary           Modulus         Frequency\n",
      "-----------------------------------------------------------------------------\n",
      "MA.1            2.0488           +0.0000j            2.0488            0.0000\n",
      "-----------------------------------------------------------------------------\n",
      "\n",
      "(array([0.29600777]), array([0.0800164]), array([[0.13917851, 0.45283703]]))\n"
     ]
    }
   ],
   "source": [
    "wlsSK_model = ARIMA(wls_SK.loc[:64, ['WLS']], order=(0, 1, 1))\n",
    "wlsSK_model_fit = wlsSK_model.fit(trend='nc', full_output=True, disp=True)\n",
    "print(\"{}\\n\".format(wlsSK_model_fit.summary()))\n",
    "\n",
    "wlsSK_fore = wlsSK_model_fit.forecast(steps=1)\n",
    "print(wlsSK_fore)"
   ]
  },
  {
   "cell_type": "code",
   "execution_count": 26,
   "metadata": {},
   "outputs": [
    {
     "name": "stdout",
     "output_type": "stream",
     "text": [
      "                             ARIMA Model Results                              \n",
      "==============================================================================\n",
      "Dep. Variable:                  D.WLS   No. Observations:                   64\n",
      "Model:                 ARIMA(2, 1, 0)   Log Likelihood                  84.350\n",
      "Method:                       css-mle   S.D. of innovations              0.065\n",
      "Date:                Wed, 23 Sep 2020   AIC                           -162.700\n",
      "Time:                        01:09:01   BIC                           -156.224\n",
      "Sample:                             1   HQIC                          -160.149\n",
      "                                                                              \n",
      "===============================================================================\n",
      "                  coef    std err          z      P>|z|      [0.025      0.975]\n",
      "-------------------------------------------------------------------------------\n",
      "ar.L1.D.WLS     0.2053      0.110      1.868      0.062      -0.010       0.421\n",
      "ar.L2.D.WLS    -0.4575      0.108     -4.243      0.000      -0.669      -0.246\n",
      "                                    Roots                                    \n",
      "=============================================================================\n",
      "                  Real          Imaginary           Modulus         Frequency\n",
      "-----------------------------------------------------------------------------\n",
      "AR.1            0.2244           -1.4614j            1.4785           -0.2258\n",
      "AR.2            0.2244           +1.4614j            1.4785            0.2258\n",
      "-----------------------------------------------------------------------------\n",
      "\n",
      "(array([0.49270958]), array([0.06452294]), array([[0.36624695, 0.61917221]]))\n"
     ]
    }
   ],
   "source": [
    "wlsSS_model = ARIMA(wls_SS.loc[:64, ['WLS']], order=(2, 1, 0))\n",
    "wlsSS_model_fit = wlsSS_model.fit(trend='nc', full_output=True, disp=True)\n",
    "print(\"{}\\n\".format(wlsSS_model_fit.summary()))\n",
    "\n",
    "wlsSS_fore = wlsSS_model_fit.forecast(steps=1)\n",
    "print(wlsSS_fore)"
   ]
  },
  {
   "cell_type": "code",
   "execution_count": 27,
   "metadata": {},
   "outputs": [
    {
     "name": "stdout",
     "output_type": "stream",
     "text": [
      "                             ARIMA Model Results                              \n",
      "==============================================================================\n",
      "Dep. Variable:                  D.WLS   No. Observations:                   64\n",
      "Model:                 ARIMA(0, 1, 1)   Log Likelihood                  67.810\n",
      "Method:                       css-mle   S.D. of innovations              0.084\n",
      "Date:                Wed, 23 Sep 2020   AIC                           -131.621\n",
      "Time:                        01:09:09   BIC                           -127.303\n",
      "Sample:                             1   HQIC                          -129.920\n",
      "                                                                              \n",
      "===============================================================================\n",
      "                  coef    std err          z      P>|z|      [0.025      0.975]\n",
      "-------------------------------------------------------------------------------\n",
      "ma.L1.D.WLS    -0.3894      0.122     -3.187      0.001      -0.629      -0.150\n",
      "                                    Roots                                    \n",
      "=============================================================================\n",
      "                  Real          Imaginary           Modulus         Frequency\n",
      "-----------------------------------------------------------------------------\n",
      "MA.1            2.5681           +0.0000j            2.5681            0.0000\n",
      "-----------------------------------------------------------------------------\n",
      "\n",
      "(array([0.6211179]), array([0.08376316]), array([[0.45694512, 0.78529069]]))\n"
     ]
    }
   ],
   "source": [
    "wlsWO_model = ARIMA(wls_WO.loc[:64, ['WLS']], order=(0, 1, 1))\n",
    "wlsWO_model_fit = wlsWO_model.fit(trend='nc', full_output=True, disp=True)\n",
    "print(\"{}\\n\".format(wlsWO_model_fit.summary()))\n",
    "\n",
    "wlsWO_fore = wlsWO_model_fit.forecast(steps=1)\n",
    "print(wlsWO_fore)"
   ]
  },
  {
   "cell_type": "markdown",
   "metadata": {},
   "source": [
    "## BA ARIMA\n",
    "\n",
    "--BA-- <br> \n",
    "HH 0,1,4 <br>\n",
    "HT 1,0,1 <br>\n",
    "KT 1,0,0 <br>\n",
    "LG 1,1,2 <br>\n",
    "LT 0,1,0 <br>\n",
    "NC 0,1,0 <br>\n",
    "OB 1,0,1 <br>\n",
    "SK 0,0,4 <br>\n",
    "SS 0,2,2 <br>\n",
    "WO 2,1,2 <br>\n"
   ]
  },
  {
   "cell_type": "code",
   "execution_count": 28,
   "metadata": {},
   "outputs": [
    {
     "name": "stdout",
     "output_type": "stream",
     "text": [
      "                             ARIMA Model Results                              \n",
      "==============================================================================\n",
      "Dep. Variable:                   D.BA   No. Observations:                   64\n",
      "Model:                 ARIMA(0, 1, 4)   Log Likelihood                 163.094\n",
      "Method:                       css-mle   S.D. of innovations              0.019\n",
      "Date:                Wed, 23 Sep 2020   AIC                           -316.188\n",
      "Time:                        01:09:20   BIC                           -305.394\n",
      "Sample:                             1   HQIC                          -311.936\n",
      "                                                                              \n",
      "==============================================================================\n",
      "                 coef    std err          z      P>|z|      [0.025      0.975]\n",
      "------------------------------------------------------------------------------\n",
      "ma.L1.D.BA     1.1203      0.131      8.573      0.000       0.864       1.376\n",
      "ma.L2.D.BA     1.2099      0.233      5.193      0.000       0.753       1.667\n",
      "ma.L3.D.BA     0.6695      0.255      2.625      0.009       0.170       1.169\n",
      "ma.L4.D.BA     0.2749      0.174      1.577      0.115      -0.067       0.617\n",
      "                                    Roots                                    \n",
      "=============================================================================\n",
      "                  Real          Imaginary           Modulus         Frequency\n",
      "-----------------------------------------------------------------------------\n",
      "MA.1           -0.1211           -1.2625j            1.2683           -0.2652\n",
      "MA.2           -0.1211           +1.2625j            1.2683            0.2652\n",
      "MA.3           -1.0965           -1.0291j            1.5037           -0.3800\n",
      "MA.4           -1.0965           +1.0291j            1.5037            0.3800\n",
      "-----------------------------------------------------------------------------\n",
      "\n",
      "(array([0.34589109]), array([0.01860829]), array([[0.30941952, 0.38236266]]))\n"
     ]
    }
   ],
   "source": [
    "baHH_model = ARIMA(ba_HH.loc[:64, ['BA']], order=(0, 1, 4))\n",
    "baHH_model_fit = baHH_model.fit(trend='nc', full_output=True, disp=True)\n",
    "print(\"{}\\n\".format(baHH_model_fit.summary()))\n",
    "\n",
    "baHH_fore = baHH_model_fit.forecast(steps=1)\n",
    "print(baHH_fore)"
   ]
  },
  {
   "cell_type": "code",
   "execution_count": 45,
   "metadata": {},
   "outputs": [
    {
     "name": "stdout",
     "output_type": "stream",
     "text": [
      "                              ARMA Model Results                              \n",
      "==============================================================================\n",
      "Dep. Variable:                     BA   No. Observations:                   62\n",
      "Model:                     ARMA(1, 1)   Log Likelihood                 176.699\n",
      "Method:                       css-mle   S.D. of innovations              0.014\n",
      "Date:                Wed, 23 Sep 2020   AIC                           -345.398\n",
      "Time:                        00:22:40   BIC                           -336.890\n",
      "Sample:                             0   HQIC                          -342.058\n",
      "                                                                              \n",
      "==============================================================================\n",
      "                 coef    std err          z      P>|z|      [0.025      0.975]\n",
      "------------------------------------------------------------------------------\n",
      "const          0.3642      0.031     11.733      0.000       0.303       0.425\n",
      "ar.L1.BA       0.9678      0.033     29.591      0.000       0.904       1.032\n",
      "ma.L1.BA      -0.2740      0.164     -1.666      0.096      -0.596       0.048\n",
      "                                    Roots                                    \n",
      "=============================================================================\n",
      "                  Real          Imaginary           Modulus         Frequency\n",
      "-----------------------------------------------------------------------------\n",
      "AR.1            1.0333           +0.0000j            1.0333            0.0000\n",
      "MA.1            3.6495           +0.0000j            3.6495            0.0000\n",
      "-----------------------------------------------------------------------------\n",
      "\n",
      "(array([0.35562956]), array([0.01374836]), array([[0.32868326, 0.38257586]]))\n"
     ]
    }
   ],
   "source": [
    "baHT_model = ARIMA(ba_HT.loc[:61, ['BA']], order=(1, 0, 1))\n",
    "baHT_model_fit = baHT_model.fit(trend='c', full_output=True, disp=True)\n",
    "print(\"{}\\n\".format(baHT_model_fit.summary()))\n",
    "\n",
    "baHT_fore = baHT_model_fit.forecast(steps=1)\n",
    "print(baHT_fore)"
   ]
  },
  {
   "cell_type": "code",
   "execution_count": 46,
   "metadata": {},
   "outputs": [
    {
     "name": "stdout",
     "output_type": "stream",
     "text": [
      "                              ARMA Model Results                              \n",
      "==============================================================================\n",
      "Dep. Variable:                     BA   No. Observations:                   64\n",
      "Model:                     ARMA(1, 0)   Log Likelihood                 202.590\n",
      "Method:                       css-mle   S.D. of innovations              0.010\n",
      "Date:                Wed, 23 Sep 2020   AIC                           -399.181\n",
      "Time:                        00:22:45   BIC                           -392.704\n",
      "Sample:                             0   HQIC                          -396.629\n",
      "                                                                              \n",
      "==============================================================================\n",
      "                 coef    std err          z      P>|z|      [0.025      0.975]\n",
      "------------------------------------------------------------------------------\n",
      "const          0.3478      0.011     32.552      0.000       0.327       0.369\n",
      "ar.L1.BA       0.8895      0.060     14.938      0.000       0.773       1.006\n",
      "                                    Roots                                    \n",
      "=============================================================================\n",
      "                  Real          Imaginary           Modulus         Frequency\n",
      "-----------------------------------------------------------------------------\n",
      "AR.1            1.1243           +0.0000j            1.1243            0.0000\n",
      "-----------------------------------------------------------------------------\n",
      "\n",
      "(array([0.33285246]), array([0.0100856]), array([[0.31308504, 0.35261987]]))\n"
     ]
    }
   ],
   "source": [
    "baKT_model = ARIMA(ba_KT.loc[:63, ['BA']], order=(1, 0, 0))\n",
    "baKT_model_fit = baKT_model.fit(trend='c', full_output=True, disp=True)\n",
    "print(\"{}\\n\".format(baKT_model_fit.summary()))\n",
    "\n",
    "baKT_fore = baKT_model_fit.forecast(steps=1)\n",
    "print(baKT_fore)"
   ]
  },
  {
   "cell_type": "code",
   "execution_count": 31,
   "metadata": {},
   "outputs": [
    {
     "name": "stdout",
     "output_type": "stream",
     "text": [
      "                             ARIMA Model Results                              \n",
      "==============================================================================\n",
      "Dep. Variable:                   D.BA   No. Observations:                   63\n",
      "Model:                 ARIMA(1, 1, 2)   Log Likelihood                 184.818\n",
      "Method:                       css-mle   S.D. of innovations              0.013\n",
      "Date:                Wed, 23 Sep 2020   AIC                           -361.636\n",
      "Time:                        01:09:42   BIC                           -353.064\n",
      "Sample:                             1   HQIC                          -358.265\n",
      "                                                                              \n",
      "==============================================================================\n",
      "                 coef    std err          z      P>|z|      [0.025      0.975]\n",
      "------------------------------------------------------------------------------\n",
      "ar.L1.D.BA    -0.0270      0.412     -0.066      0.948      -0.834       0.780\n",
      "ma.L1.D.BA     0.4622      0.361      1.280      0.201      -0.246       1.170\n",
      "ma.L2.D.BA     0.3779      0.167      2.264      0.024       0.051       0.705\n",
      "                                    Roots                                    \n",
      "=============================================================================\n",
      "                  Real          Imaginary           Modulus         Frequency\n",
      "-----------------------------------------------------------------------------\n",
      "AR.1          -36.9837           +0.0000j           36.9837            0.5000\n",
      "MA.1           -0.6115           -1.5073j            1.6266           -0.3113\n",
      "MA.2           -0.6115           +1.5073j            1.6266            0.3113\n",
      "-----------------------------------------------------------------------------\n",
      "\n",
      "(array([0.39183633]), array([0.01283261]), array([[0.36668487, 0.41698778]]))\n"
     ]
    }
   ],
   "source": [
    "baLG_model = ARIMA(ba_LG.loc[:63, ['BA']], order=(1, 1, 2))\n",
    "baLG_model_fit = baLG_model.fit(trend='nc', full_output=True, disp=True)\n",
    "print(\"{}\\n\".format(baLG_model_fit.summary()))\n",
    "\n",
    "baLG_fore = baLG_model_fit.forecast(steps=1)\n",
    "print(baLG_fore)"
   ]
  },
  {
   "cell_type": "code",
   "execution_count": 32,
   "metadata": {},
   "outputs": [
    {
     "ename": "ValueError",
     "evalue": "Estimation requires the inclusion of least one AR term, MA term, a constant or an exogenous variable.",
     "output_type": "error",
     "traceback": [
      "\u001b[1;31m---------------------------------------------------------------------------\u001b[0m",
      "\u001b[1;31mValueError\u001b[0m                                Traceback (most recent call last)",
      "\u001b[1;32m<ipython-input-32-a8c350e39f85>\u001b[0m in \u001b[0;36m<module>\u001b[1;34m\u001b[0m\n\u001b[0;32m      1\u001b[0m \u001b[0mbaLT_model\u001b[0m \u001b[1;33m=\u001b[0m \u001b[0mARIMA\u001b[0m\u001b[1;33m(\u001b[0m\u001b[0mba_LT\u001b[0m\u001b[1;33m.\u001b[0m\u001b[0mloc\u001b[0m\u001b[1;33m[\u001b[0m\u001b[1;33m:\u001b[0m\u001b[1;36m61\u001b[0m\u001b[1;33m,\u001b[0m \u001b[1;33m[\u001b[0m\u001b[1;34m'BA'\u001b[0m\u001b[1;33m]\u001b[0m\u001b[1;33m]\u001b[0m\u001b[1;33m,\u001b[0m \u001b[0morder\u001b[0m\u001b[1;33m=\u001b[0m\u001b[1;33m(\u001b[0m\u001b[1;36m0\u001b[0m\u001b[1;33m,\u001b[0m \u001b[1;36m1\u001b[0m\u001b[1;33m,\u001b[0m \u001b[1;36m0\u001b[0m\u001b[1;33m)\u001b[0m\u001b[1;33m)\u001b[0m\u001b[1;33m\u001b[0m\u001b[1;33m\u001b[0m\u001b[0m\n\u001b[1;32m----> 2\u001b[1;33m \u001b[0mbaLT_model_fit\u001b[0m \u001b[1;33m=\u001b[0m \u001b[0mbaLT_model\u001b[0m\u001b[1;33m.\u001b[0m\u001b[0mfit\u001b[0m\u001b[1;33m(\u001b[0m\u001b[0mtrend\u001b[0m\u001b[1;33m=\u001b[0m\u001b[1;34m'nc'\u001b[0m\u001b[1;33m,\u001b[0m \u001b[0mfull_output\u001b[0m\u001b[1;33m=\u001b[0m\u001b[1;32mTrue\u001b[0m\u001b[1;33m,\u001b[0m \u001b[0mdisp\u001b[0m\u001b[1;33m=\u001b[0m\u001b[1;32mTrue\u001b[0m\u001b[1;33m)\u001b[0m\u001b[1;33m\u001b[0m\u001b[1;33m\u001b[0m\u001b[0m\n\u001b[0m\u001b[0;32m      3\u001b[0m \u001b[0mprint\u001b[0m\u001b[1;33m(\u001b[0m\u001b[1;34m\"{}\\n\"\u001b[0m\u001b[1;33m.\u001b[0m\u001b[0mformat\u001b[0m\u001b[1;33m(\u001b[0m\u001b[0mbaLT_model_fit\u001b[0m\u001b[1;33m.\u001b[0m\u001b[0msummary\u001b[0m\u001b[1;33m(\u001b[0m\u001b[1;33m)\u001b[0m\u001b[1;33m)\u001b[0m\u001b[1;33m)\u001b[0m\u001b[1;33m\u001b[0m\u001b[1;33m\u001b[0m\u001b[0m\n\u001b[0;32m      4\u001b[0m \u001b[1;33m\u001b[0m\u001b[0m\n\u001b[0;32m      5\u001b[0m \u001b[0mbaLT_fore\u001b[0m \u001b[1;33m=\u001b[0m \u001b[0mbaLT_model_fit\u001b[0m\u001b[1;33m.\u001b[0m\u001b[0mforecast\u001b[0m\u001b[1;33m(\u001b[0m\u001b[0msteps\u001b[0m\u001b[1;33m=\u001b[0m\u001b[1;36m1\u001b[0m\u001b[1;33m)\u001b[0m\u001b[1;33m\u001b[0m\u001b[1;33m\u001b[0m\u001b[0m\n",
      "\u001b[1;32m~\\Anaconda3\\lib\\site-packages\\statsmodels\\tsa\\arima_model.py\u001b[0m in \u001b[0;36mfit\u001b[1;34m(self, start_params, trend, method, transparams, solver, maxiter, full_output, disp, callback, start_ar_lags, **kwargs)\u001b[0m\n\u001b[0;32m   1198\u001b[0m                                         \u001b[0mmethod\u001b[0m\u001b[1;33m,\u001b[0m \u001b[0mtransparams\u001b[0m\u001b[1;33m,\u001b[0m \u001b[0msolver\u001b[0m\u001b[1;33m,\u001b[0m\u001b[1;33m\u001b[0m\u001b[1;33m\u001b[0m\u001b[0m\n\u001b[0;32m   1199\u001b[0m                                         \u001b[0mmaxiter\u001b[0m\u001b[1;33m,\u001b[0m \u001b[0mfull_output\u001b[0m\u001b[1;33m,\u001b[0m \u001b[0mdisp\u001b[0m\u001b[1;33m,\u001b[0m\u001b[1;33m\u001b[0m\u001b[1;33m\u001b[0m\u001b[0m\n\u001b[1;32m-> 1200\u001b[1;33m                                         callback, start_ar_lags, **kwargs)\n\u001b[0m\u001b[0;32m   1201\u001b[0m         \u001b[0mnormalized_cov_params\u001b[0m \u001b[1;33m=\u001b[0m \u001b[1;32mNone\u001b[0m  \u001b[1;31m# TODO: fix this?\u001b[0m\u001b[1;33m\u001b[0m\u001b[1;33m\u001b[0m\u001b[0m\n\u001b[0;32m   1202\u001b[0m         arima_fit = ARIMAResults(self, mlefit._results.params,\n",
      "\u001b[1;32m~\\Anaconda3\\lib\\site-packages\\statsmodels\\tsa\\arima_model.py\u001b[0m in \u001b[0;36mfit\u001b[1;34m(self, start_params, trend, method, transparams, solver, maxiter, full_output, disp, callback, start_ar_lags, **kwargs)\u001b[0m\n\u001b[0;32m    955\u001b[0m         \u001b[1;31m# Check has something to estimate\u001b[0m\u001b[1;33m\u001b[0m\u001b[1;33m\u001b[0m\u001b[1;33m\u001b[0m\u001b[0m\n\u001b[0;32m    956\u001b[0m         \u001b[1;32mif\u001b[0m \u001b[0mk_ar\u001b[0m \u001b[1;33m==\u001b[0m \u001b[1;36m0\u001b[0m \u001b[1;32mand\u001b[0m \u001b[0mk_ma\u001b[0m \u001b[1;33m==\u001b[0m \u001b[1;36m0\u001b[0m \u001b[1;32mand\u001b[0m \u001b[0mk_trend\u001b[0m \u001b[1;33m==\u001b[0m \u001b[1;36m0\u001b[0m \u001b[1;32mand\u001b[0m \u001b[0mk_exog\u001b[0m \u001b[1;33m==\u001b[0m \u001b[1;36m0\u001b[0m\u001b[1;33m:\u001b[0m\u001b[1;33m\u001b[0m\u001b[1;33m\u001b[0m\u001b[0m\n\u001b[1;32m--> 957\u001b[1;33m             raise ValueError(\"Estimation requires the inclusion of least one \"\n\u001b[0m\u001b[0;32m    958\u001b[0m                              \u001b[1;34m\"AR term, MA term, a constant or an exogenous \"\u001b[0m\u001b[1;33m\u001b[0m\u001b[1;33m\u001b[0m\u001b[0m\n\u001b[0;32m    959\u001b[0m                              \"variable.\")\n",
      "\u001b[1;31mValueError\u001b[0m: Estimation requires the inclusion of least one AR term, MA term, a constant or an exogenous variable."
     ]
    }
   ],
   "source": [
    "baLT_model = ARIMA(ba_LT.loc[:61, ['BA']], order=(0, 1, 0))\n",
    "baLT_model_fit = baLT_model.fit(trend='nc', full_output=True, disp=True)\n",
    "print(\"{}\\n\".format(baLT_model_fit.summary()))\n",
    "\n",
    "baLT_fore = baLT_model_fit.forecast(steps=1)\n",
    "print(baLT_fore)"
   ]
  },
  {
   "cell_type": "code",
   "execution_count": 33,
   "metadata": {},
   "outputs": [
    {
     "ename": "ValueError",
     "evalue": "Estimation requires the inclusion of least one AR term, MA term, a constant or an exogenous variable.",
     "output_type": "error",
     "traceback": [
      "\u001b[1;31m---------------------------------------------------------------------------\u001b[0m",
      "\u001b[1;31mValueError\u001b[0m                                Traceback (most recent call last)",
      "\u001b[1;32m<ipython-input-33-aa81ed49de8f>\u001b[0m in \u001b[0;36m<module>\u001b[1;34m\u001b[0m\n\u001b[0;32m      1\u001b[0m \u001b[0mbaNC_model\u001b[0m \u001b[1;33m=\u001b[0m \u001b[0mARIMA\u001b[0m\u001b[1;33m(\u001b[0m\u001b[0mba_NC\u001b[0m\u001b[1;33m.\u001b[0m\u001b[0mloc\u001b[0m\u001b[1;33m[\u001b[0m\u001b[1;33m:\u001b[0m\u001b[1;36m62\u001b[0m\u001b[1;33m,\u001b[0m \u001b[1;33m[\u001b[0m\u001b[1;34m'BA'\u001b[0m\u001b[1;33m]\u001b[0m\u001b[1;33m]\u001b[0m\u001b[1;33m,\u001b[0m \u001b[0morder\u001b[0m\u001b[1;33m=\u001b[0m\u001b[1;33m(\u001b[0m\u001b[1;36m0\u001b[0m\u001b[1;33m,\u001b[0m \u001b[1;36m1\u001b[0m\u001b[1;33m,\u001b[0m \u001b[1;36m0\u001b[0m\u001b[1;33m)\u001b[0m\u001b[1;33m)\u001b[0m\u001b[1;33m\u001b[0m\u001b[1;33m\u001b[0m\u001b[0m\n\u001b[1;32m----> 2\u001b[1;33m \u001b[0mbaNC_model_fit\u001b[0m \u001b[1;33m=\u001b[0m \u001b[0mbaNC_model\u001b[0m\u001b[1;33m.\u001b[0m\u001b[0mfit\u001b[0m\u001b[1;33m(\u001b[0m\u001b[0mtrend\u001b[0m\u001b[1;33m=\u001b[0m\u001b[1;34m'nc'\u001b[0m\u001b[1;33m,\u001b[0m \u001b[0mfull_output\u001b[0m\u001b[1;33m=\u001b[0m\u001b[1;32mTrue\u001b[0m\u001b[1;33m,\u001b[0m \u001b[0mdisp\u001b[0m\u001b[1;33m=\u001b[0m\u001b[1;32mTrue\u001b[0m\u001b[1;33m)\u001b[0m\u001b[1;33m\u001b[0m\u001b[1;33m\u001b[0m\u001b[0m\n\u001b[0m\u001b[0;32m      3\u001b[0m \u001b[0mprint\u001b[0m\u001b[1;33m(\u001b[0m\u001b[1;34m\"{}\\n\"\u001b[0m\u001b[1;33m.\u001b[0m\u001b[0mformat\u001b[0m\u001b[1;33m(\u001b[0m\u001b[0mbaNC_model_fit\u001b[0m\u001b[1;33m.\u001b[0m\u001b[0msummary\u001b[0m\u001b[1;33m(\u001b[0m\u001b[1;33m)\u001b[0m\u001b[1;33m)\u001b[0m\u001b[1;33m)\u001b[0m\u001b[1;33m\u001b[0m\u001b[1;33m\u001b[0m\u001b[0m\n\u001b[0;32m      4\u001b[0m \u001b[1;33m\u001b[0m\u001b[0m\n\u001b[0;32m      5\u001b[0m \u001b[0mbaNC_fore\u001b[0m \u001b[1;33m=\u001b[0m \u001b[0mbaNC_model_fit\u001b[0m\u001b[1;33m.\u001b[0m\u001b[0mforecast\u001b[0m\u001b[1;33m(\u001b[0m\u001b[0msteps\u001b[0m\u001b[1;33m=\u001b[0m\u001b[1;36m1\u001b[0m\u001b[1;33m)\u001b[0m\u001b[1;33m\u001b[0m\u001b[1;33m\u001b[0m\u001b[0m\n",
      "\u001b[1;32m~\\Anaconda3\\lib\\site-packages\\statsmodels\\tsa\\arima_model.py\u001b[0m in \u001b[0;36mfit\u001b[1;34m(self, start_params, trend, method, transparams, solver, maxiter, full_output, disp, callback, start_ar_lags, **kwargs)\u001b[0m\n\u001b[0;32m   1198\u001b[0m                                         \u001b[0mmethod\u001b[0m\u001b[1;33m,\u001b[0m \u001b[0mtransparams\u001b[0m\u001b[1;33m,\u001b[0m \u001b[0msolver\u001b[0m\u001b[1;33m,\u001b[0m\u001b[1;33m\u001b[0m\u001b[1;33m\u001b[0m\u001b[0m\n\u001b[0;32m   1199\u001b[0m                                         \u001b[0mmaxiter\u001b[0m\u001b[1;33m,\u001b[0m \u001b[0mfull_output\u001b[0m\u001b[1;33m,\u001b[0m \u001b[0mdisp\u001b[0m\u001b[1;33m,\u001b[0m\u001b[1;33m\u001b[0m\u001b[1;33m\u001b[0m\u001b[0m\n\u001b[1;32m-> 1200\u001b[1;33m                                         callback, start_ar_lags, **kwargs)\n\u001b[0m\u001b[0;32m   1201\u001b[0m         \u001b[0mnormalized_cov_params\u001b[0m \u001b[1;33m=\u001b[0m \u001b[1;32mNone\u001b[0m  \u001b[1;31m# TODO: fix this?\u001b[0m\u001b[1;33m\u001b[0m\u001b[1;33m\u001b[0m\u001b[0m\n\u001b[0;32m   1202\u001b[0m         arima_fit = ARIMAResults(self, mlefit._results.params,\n",
      "\u001b[1;32m~\\Anaconda3\\lib\\site-packages\\statsmodels\\tsa\\arima_model.py\u001b[0m in \u001b[0;36mfit\u001b[1;34m(self, start_params, trend, method, transparams, solver, maxiter, full_output, disp, callback, start_ar_lags, **kwargs)\u001b[0m\n\u001b[0;32m    955\u001b[0m         \u001b[1;31m# Check has something to estimate\u001b[0m\u001b[1;33m\u001b[0m\u001b[1;33m\u001b[0m\u001b[1;33m\u001b[0m\u001b[0m\n\u001b[0;32m    956\u001b[0m         \u001b[1;32mif\u001b[0m \u001b[0mk_ar\u001b[0m \u001b[1;33m==\u001b[0m \u001b[1;36m0\u001b[0m \u001b[1;32mand\u001b[0m \u001b[0mk_ma\u001b[0m \u001b[1;33m==\u001b[0m \u001b[1;36m0\u001b[0m \u001b[1;32mand\u001b[0m \u001b[0mk_trend\u001b[0m \u001b[1;33m==\u001b[0m \u001b[1;36m0\u001b[0m \u001b[1;32mand\u001b[0m \u001b[0mk_exog\u001b[0m \u001b[1;33m==\u001b[0m \u001b[1;36m0\u001b[0m\u001b[1;33m:\u001b[0m\u001b[1;33m\u001b[0m\u001b[1;33m\u001b[0m\u001b[0m\n\u001b[1;32m--> 957\u001b[1;33m             raise ValueError(\"Estimation requires the inclusion of least one \"\n\u001b[0m\u001b[0;32m    958\u001b[0m                              \u001b[1;34m\"AR term, MA term, a constant or an exogenous \"\u001b[0m\u001b[1;33m\u001b[0m\u001b[1;33m\u001b[0m\u001b[0m\n\u001b[0;32m    959\u001b[0m                              \"variable.\")\n",
      "\u001b[1;31mValueError\u001b[0m: Estimation requires the inclusion of least one AR term, MA term, a constant or an exogenous variable."
     ]
    }
   ],
   "source": [
    "baNC_model = ARIMA(ba_NC.loc[:62, ['BA']], order=(0, 1, 0))\n",
    "baNC_model_fit = baNC_model.fit(trend='nc', full_output=True, disp=True)\n",
    "print(\"{}\\n\".format(baNC_model_fit.summary()))\n",
    "\n",
    "baNC_fore = baNC_model_fit.forecast(steps=1)\n",
    "print(baNC_fore)"
   ]
  },
  {
   "cell_type": "code",
   "execution_count": 34,
   "metadata": {},
   "outputs": [
    {
     "name": "stdout",
     "output_type": "stream",
     "text": [
      "                              ARMA Model Results                              \n",
      "==============================================================================\n",
      "Dep. Variable:                     BA   No. Observations:                   64\n",
      "Model:                     ARMA(1, 1)   Log Likelihood                 139.640\n",
      "Method:                       css-mle   S.D. of innovations              0.026\n",
      "Date:                Wed, 23 Sep 2020   AIC                           -273.279\n",
      "Time:                        01:10:05   BIC                           -266.802\n",
      "Sample:                             0   HQIC                          -270.728\n",
      "                                                                              \n",
      "==============================================================================\n",
      "                 coef    std err          z      P>|z|      [0.025      0.975]\n",
      "------------------------------------------------------------------------------\n",
      "ar.L1.BA       0.9965      0.005    212.980      0.000       0.987       1.006\n",
      "ma.L1.BA       0.7164      0.088      8.165      0.000       0.544       0.888\n",
      "                                    Roots                                    \n",
      "=============================================================================\n",
      "                  Real          Imaginary           Modulus         Frequency\n",
      "-----------------------------------------------------------------------------\n",
      "AR.1            1.0035           +0.0000j            1.0035            0.0000\n",
      "MA.1           -1.3959           +0.0000j            1.3959            0.5000\n",
      "-----------------------------------------------------------------------------\n",
      "\n",
      "(0.3573139768898808, array([0.02589421]), array([[0.30656227, 0.40806569]]))\n"
     ]
    }
   ],
   "source": [
    "baOB_model = ARIMA(ba_OB.loc[:63, ['BA']], order=(1, 0, 1))\n",
    "baOB_model_fit = baOB_model.fit(trend='nc', full_output=True, disp=True)\n",
    "print(\"{}\\n\".format(baOB_model_fit.summary()))\n",
    "\n",
    "baOB_fore = baOB_model_fit.forecast(steps=1)\n",
    "print(baOB_fore)"
   ]
  },
  {
   "cell_type": "code",
   "execution_count": 35,
   "metadata": {},
   "outputs": [
    {
     "name": "stdout",
     "output_type": "stream",
     "text": [
      "                              ARMA Model Results                              \n",
      "==============================================================================\n",
      "Dep. Variable:                     BA   No. Observations:                   65\n",
      "Model:                     ARMA(0, 4)   Log Likelihood                 105.009\n",
      "Method:                       css-mle   S.D. of innovations              0.044\n",
      "Date:                Wed, 23 Sep 2020   AIC                           -200.018\n",
      "Time:                        01:10:11   BIC                           -189.146\n",
      "Sample:                             0   HQIC                          -195.728\n",
      "                                                                              \n",
      "==============================================================================\n",
      "                 coef    std err          z      P>|z|      [0.025      0.975]\n",
      "------------------------------------------------------------------------------\n",
      "ma.L1.BA       2.6638      0.170     15.641      0.000       2.330       2.998\n",
      "ma.L2.BA       3.4079      0.383      8.890      0.000       2.657       4.159\n",
      "ma.L3.BA       2.5169      0.335      7.503      0.000       1.859       3.174\n",
      "ma.L4.BA       0.8849      0.129      6.862      0.000       0.632       1.138\n",
      "                                    Roots                                    \n",
      "=============================================================================\n",
      "                  Real          Imaginary           Modulus         Frequency\n",
      "-----------------------------------------------------------------------------\n",
      "MA.1           -0.4383           -0.9266j            1.0250           -0.3203\n",
      "MA.2           -0.4383           +0.9266j            1.0250            0.3203\n",
      "MA.3           -0.9839           -0.3281j            1.0371           -0.4488\n",
      "MA.4           -0.9839           +0.3281j            1.0371            0.4488\n",
      "-----------------------------------------------------------------------------\n",
      "\n",
      "(0.37034712456615776, array([0.04413105]), array([[0.28385186, 0.45684239]]))\n"
     ]
    }
   ],
   "source": [
    "baSK_model = ARIMA(ba_SK.loc[:64, ['BA']], order=(0, 0, 4))\n",
    "baSK_model_fit = baSK_model.fit(trend='nc', full_output=True, disp=True)\n",
    "print(\"{}\\n\".format(baSK_model_fit.summary()))\n",
    "\n",
    "baSK_fore = baSK_model_fit.forecast(steps=1)\n",
    "print(baSK_fore)"
   ]
  },
  {
   "cell_type": "code",
   "execution_count": 36,
   "metadata": {},
   "outputs": [
    {
     "name": "stdout",
     "output_type": "stream",
     "text": [
      "                             ARIMA Model Results                              \n",
      "==============================================================================\n",
      "Dep. Variable:                  D2.BA   No. Observations:                   63\n",
      "Model:                 ARIMA(0, 2, 2)   Log Likelihood                 187.177\n",
      "Method:                       css-mle   S.D. of innovations              0.012\n",
      "Date:                Wed, 23 Sep 2020   AIC                           -368.355\n",
      "Time:                        01:10:22   BIC                           -361.925\n",
      "Sample:                             2   HQIC                          -365.826\n",
      "                                                                              \n",
      "===============================================================================\n",
      "                  coef    std err          z      P>|z|      [0.025      0.975]\n",
      "-------------------------------------------------------------------------------\n",
      "ma.L1.D2.BA    -0.8130      0.166     -4.897      0.000      -1.138      -0.488\n",
      "ma.L2.D2.BA    -0.1869      0.161     -1.163      0.245      -0.502       0.128\n",
      "                                    Roots                                    \n",
      "=============================================================================\n",
      "                  Real          Imaginary           Modulus         Frequency\n",
      "-----------------------------------------------------------------------------\n",
      "MA.1            1.0001           +0.0000j            1.0001            0.0000\n",
      "MA.2           -5.3495           +0.0000j            5.3495            0.5000\n",
      "-----------------------------------------------------------------------------\n",
      "\n",
      "(array([0.33116847]), array([0.01202728]), array([[0.30759542, 0.35474151]]))\n"
     ]
    }
   ],
   "source": [
    "baSS_model = ARIMA(ba_SS.loc[:64, ['BA']], order=(0, 2, 2))\n",
    "baSS_model_fit = baSS_model.fit(trend='nc', full_output=True, disp=True)\n",
    "print(\"{}\\n\".format(baSS_model_fit.summary()))\n",
    "\n",
    "baSS_fore = baSS_model_fit.forecast(steps=1)\n",
    "print(baSS_fore)"
   ]
  },
  {
   "cell_type": "code",
   "execution_count": 37,
   "metadata": {},
   "outputs": [
    {
     "name": "stdout",
     "output_type": "stream",
     "text": [
      "                             ARIMA Model Results                              \n",
      "==============================================================================\n",
      "Dep. Variable:                   D.BA   No. Observations:                   65\n",
      "Model:                 ARIMA(2, 1, 2)   Log Likelihood                 181.304\n",
      "Method:                       css-mle   S.D. of innovations              0.015\n",
      "Date:                Wed, 23 Sep 2020   AIC                           -352.607\n",
      "Time:                        01:10:27   BIC                           -341.735\n",
      "Sample:                             1   HQIC                          -348.317\n",
      "                                                                              \n",
      "==============================================================================\n",
      "                 coef    std err          z      P>|z|      [0.025      0.975]\n",
      "------------------------------------------------------------------------------\n",
      "ar.L1.D.BA    -0.7887      0.172     -4.596      0.000      -1.125      -0.452\n",
      "ar.L2.D.BA    -0.9095      0.099     -9.162      0.000      -1.104      -0.715\n",
      "ma.L1.D.BA     0.8271      0.238      3.481      0.001       0.361       1.293\n",
      "ma.L2.D.BA     0.5993      0.149      4.031      0.000       0.308       0.891\n",
      "                                    Roots                                    \n",
      "=============================================================================\n",
      "                  Real          Imaginary           Modulus         Frequency\n",
      "-----------------------------------------------------------------------------\n",
      "AR.1           -0.4336           -0.9547j            1.0485           -0.3178\n",
      "AR.2           -0.4336           +0.9547j            1.0485            0.3178\n",
      "MA.1           -0.6900           -1.0920j            1.2917           -0.3397\n",
      "MA.2           -0.6900           +1.0920j            1.2917            0.3397\n",
      "-----------------------------------------------------------------------------\n",
      "\n",
      "(array([0.38537182]), array([0.01468852]), array([[0.35658286, 0.41416078]]))\n"
     ]
    }
   ],
   "source": [
    "baWO_model = ARIMA(ba_WO.loc[:65, ['BA']], order=(2, 1, 2))\n",
    "baWO_model_fit = baWO_model.fit(trend='nc', full_output=True, disp=True)\n",
    "print(\"{}\\n\".format(baWO_model_fit.summary()))\n",
    "\n",
    "baWO_fore = baWO_model_fit.forecast(steps=1)\n",
    "print(baWO_fore)"
   ]
  }
 ],
 "metadata": {
  "kernelspec": {
   "display_name": "Python 3",
   "language": "python",
   "name": "python3"
  },
  "language_info": {
   "codemirror_mode": {
    "name": "ipython",
    "version": 3
   },
   "file_extension": ".py",
   "mimetype": "text/x-python",
   "name": "python",
   "nbconvert_exporter": "python",
   "pygments_lexer": "ipython3",
   "version": "3.7.7"
  }
 },
 "nbformat": 4,
 "nbformat_minor": 4
}
